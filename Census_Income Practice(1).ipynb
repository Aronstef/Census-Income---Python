{
 "cells": [
  {
   "cell_type": "code",
   "execution_count": 1,
   "id": "25312952",
   "metadata": {},
   "outputs": [],
   "source": [
    "import numpy as np\n",
    "import pandas as pd\n",
    "import matplotlib.pyplot as plt\n",
    "import seaborn as sns\n",
    "%matplotlib inline\n",
    "import warnings\n",
    "warnings.filterwarnings(\"ignore\")\n",
    "#from scipy import ttest_ind,ttest_rel\n",
    "from scipy import stats\n"
   ]
  },
  {
   "cell_type": "code",
   "execution_count": 2,
   "id": "e9c5da5b",
   "metadata": {},
   "outputs": [],
   "source": [
    "#scipy.ttest_ind()"
   ]
  },
  {
   "cell_type": "code",
   "execution_count": 3,
   "id": "863950d9",
   "metadata": {},
   "outputs": [
    {
     "data": {
      "text/html": [
       "<div>\n",
       "<style scoped>\n",
       "    .dataframe tbody tr th:only-of-type {\n",
       "        vertical-align: middle;\n",
       "    }\n",
       "\n",
       "    .dataframe tbody tr th {\n",
       "        vertical-align: top;\n",
       "    }\n",
       "\n",
       "    .dataframe thead th {\n",
       "        text-align: right;\n",
       "    }\n",
       "</style>\n",
       "<table border=\"1\" class=\"dataframe\">\n",
       "  <thead>\n",
       "    <tr style=\"text-align: right;\">\n",
       "      <th></th>\n",
       "      <th>age</th>\n",
       "      <th>workclass</th>\n",
       "      <th>fnlwgt</th>\n",
       "      <th>education</th>\n",
       "      <th>educational-num</th>\n",
       "      <th>marital-status</th>\n",
       "      <th>occupation</th>\n",
       "      <th>relationship</th>\n",
       "      <th>race</th>\n",
       "      <th>gender</th>\n",
       "      <th>capital-gain</th>\n",
       "      <th>capital-loss</th>\n",
       "      <th>hours-per-week</th>\n",
       "      <th>native-country</th>\n",
       "      <th>income</th>\n",
       "    </tr>\n",
       "  </thead>\n",
       "  <tbody>\n",
       "    <tr>\n",
       "      <th>0</th>\n",
       "      <td>25</td>\n",
       "      <td>Private</td>\n",
       "      <td>226802</td>\n",
       "      <td>11th</td>\n",
       "      <td>7</td>\n",
       "      <td>Never-married</td>\n",
       "      <td>Machine-op-inspct</td>\n",
       "      <td>Own-child</td>\n",
       "      <td>Black</td>\n",
       "      <td>Male</td>\n",
       "      <td>0</td>\n",
       "      <td>0</td>\n",
       "      <td>40</td>\n",
       "      <td>United-States</td>\n",
       "      <td>&lt;=50K</td>\n",
       "    </tr>\n",
       "    <tr>\n",
       "      <th>1</th>\n",
       "      <td>38</td>\n",
       "      <td>Private</td>\n",
       "      <td>89814</td>\n",
       "      <td>HS-grad</td>\n",
       "      <td>9</td>\n",
       "      <td>Married-civ-spouse</td>\n",
       "      <td>Farming-fishing</td>\n",
       "      <td>Husband</td>\n",
       "      <td>White</td>\n",
       "      <td>Male</td>\n",
       "      <td>0</td>\n",
       "      <td>0</td>\n",
       "      <td>50</td>\n",
       "      <td>United-States</td>\n",
       "      <td>&lt;=50K</td>\n",
       "    </tr>\n",
       "    <tr>\n",
       "      <th>2</th>\n",
       "      <td>28</td>\n",
       "      <td>Local-gov</td>\n",
       "      <td>336951</td>\n",
       "      <td>Assoc-acdm</td>\n",
       "      <td>12</td>\n",
       "      <td>Married-civ-spouse</td>\n",
       "      <td>Protective-serv</td>\n",
       "      <td>Husband</td>\n",
       "      <td>White</td>\n",
       "      <td>Male</td>\n",
       "      <td>0</td>\n",
       "      <td>0</td>\n",
       "      <td>40</td>\n",
       "      <td>United-States</td>\n",
       "      <td>&gt;50K</td>\n",
       "    </tr>\n",
       "    <tr>\n",
       "      <th>3</th>\n",
       "      <td>44</td>\n",
       "      <td>Private</td>\n",
       "      <td>160323</td>\n",
       "      <td>Some-college</td>\n",
       "      <td>10</td>\n",
       "      <td>Married-civ-spouse</td>\n",
       "      <td>Machine-op-inspct</td>\n",
       "      <td>Husband</td>\n",
       "      <td>Black</td>\n",
       "      <td>Male</td>\n",
       "      <td>7688</td>\n",
       "      <td>0</td>\n",
       "      <td>40</td>\n",
       "      <td>United-States</td>\n",
       "      <td>&gt;50K</td>\n",
       "    </tr>\n",
       "    <tr>\n",
       "      <th>4</th>\n",
       "      <td>18</td>\n",
       "      <td>NaN</td>\n",
       "      <td>103497</td>\n",
       "      <td>Some-college</td>\n",
       "      <td>10</td>\n",
       "      <td>Never-married</td>\n",
       "      <td>NaN</td>\n",
       "      <td>Own-child</td>\n",
       "      <td>White</td>\n",
       "      <td>Female</td>\n",
       "      <td>0</td>\n",
       "      <td>0</td>\n",
       "      <td>30</td>\n",
       "      <td>United-States</td>\n",
       "      <td>&lt;=50K</td>\n",
       "    </tr>\n",
       "    <tr>\n",
       "      <th>...</th>\n",
       "      <td>...</td>\n",
       "      <td>...</td>\n",
       "      <td>...</td>\n",
       "      <td>...</td>\n",
       "      <td>...</td>\n",
       "      <td>...</td>\n",
       "      <td>...</td>\n",
       "      <td>...</td>\n",
       "      <td>...</td>\n",
       "      <td>...</td>\n",
       "      <td>...</td>\n",
       "      <td>...</td>\n",
       "      <td>...</td>\n",
       "      <td>...</td>\n",
       "      <td>...</td>\n",
       "    </tr>\n",
       "    <tr>\n",
       "      <th>48837</th>\n",
       "      <td>27</td>\n",
       "      <td>Private</td>\n",
       "      <td>257302</td>\n",
       "      <td>Assoc-acdm</td>\n",
       "      <td>12</td>\n",
       "      <td>Married-civ-spouse</td>\n",
       "      <td>Tech-support</td>\n",
       "      <td>Wife</td>\n",
       "      <td>White</td>\n",
       "      <td>Female</td>\n",
       "      <td>0</td>\n",
       "      <td>0</td>\n",
       "      <td>38</td>\n",
       "      <td>United-States</td>\n",
       "      <td>&lt;=50K</td>\n",
       "    </tr>\n",
       "    <tr>\n",
       "      <th>48838</th>\n",
       "      <td>40</td>\n",
       "      <td>Private</td>\n",
       "      <td>154374</td>\n",
       "      <td>HS-grad</td>\n",
       "      <td>9</td>\n",
       "      <td>Married-civ-spouse</td>\n",
       "      <td>Machine-op-inspct</td>\n",
       "      <td>Husband</td>\n",
       "      <td>White</td>\n",
       "      <td>Male</td>\n",
       "      <td>0</td>\n",
       "      <td>0</td>\n",
       "      <td>40</td>\n",
       "      <td>United-States</td>\n",
       "      <td>&gt;50K</td>\n",
       "    </tr>\n",
       "    <tr>\n",
       "      <th>48839</th>\n",
       "      <td>58</td>\n",
       "      <td>Private</td>\n",
       "      <td>151910</td>\n",
       "      <td>HS-grad</td>\n",
       "      <td>9</td>\n",
       "      <td>Widowed</td>\n",
       "      <td>Adm-clerical</td>\n",
       "      <td>Unmarried</td>\n",
       "      <td>White</td>\n",
       "      <td>Female</td>\n",
       "      <td>0</td>\n",
       "      <td>0</td>\n",
       "      <td>40</td>\n",
       "      <td>United-States</td>\n",
       "      <td>&lt;=50K</td>\n",
       "    </tr>\n",
       "    <tr>\n",
       "      <th>48840</th>\n",
       "      <td>22</td>\n",
       "      <td>Private</td>\n",
       "      <td>201490</td>\n",
       "      <td>HS-grad</td>\n",
       "      <td>9</td>\n",
       "      <td>Never-married</td>\n",
       "      <td>Adm-clerical</td>\n",
       "      <td>Own-child</td>\n",
       "      <td>White</td>\n",
       "      <td>Male</td>\n",
       "      <td>0</td>\n",
       "      <td>0</td>\n",
       "      <td>20</td>\n",
       "      <td>United-States</td>\n",
       "      <td>&lt;=50K</td>\n",
       "    </tr>\n",
       "    <tr>\n",
       "      <th>48841</th>\n",
       "      <td>52</td>\n",
       "      <td>Self-emp-inc</td>\n",
       "      <td>287927</td>\n",
       "      <td>HS-grad</td>\n",
       "      <td>9</td>\n",
       "      <td>Married-civ-spouse</td>\n",
       "      <td>Exec-managerial</td>\n",
       "      <td>Wife</td>\n",
       "      <td>White</td>\n",
       "      <td>Female</td>\n",
       "      <td>15024</td>\n",
       "      <td>0</td>\n",
       "      <td>40</td>\n",
       "      <td>United-States</td>\n",
       "      <td>&gt;50K</td>\n",
       "    </tr>\n",
       "  </tbody>\n",
       "</table>\n",
       "<p>48842 rows × 15 columns</p>\n",
       "</div>"
      ],
      "text/plain": [
       "       age     workclass  fnlwgt     education  educational-num  \\\n",
       "0       25       Private  226802          11th                7   \n",
       "1       38       Private   89814       HS-grad                9   \n",
       "2       28     Local-gov  336951    Assoc-acdm               12   \n",
       "3       44       Private  160323  Some-college               10   \n",
       "4       18           NaN  103497  Some-college               10   \n",
       "...    ...           ...     ...           ...              ...   \n",
       "48837   27       Private  257302    Assoc-acdm               12   \n",
       "48838   40       Private  154374       HS-grad                9   \n",
       "48839   58       Private  151910       HS-grad                9   \n",
       "48840   22       Private  201490       HS-grad                9   \n",
       "48841   52  Self-emp-inc  287927       HS-grad                9   \n",
       "\n",
       "           marital-status         occupation relationship   race  gender  \\\n",
       "0           Never-married  Machine-op-inspct    Own-child  Black    Male   \n",
       "1      Married-civ-spouse    Farming-fishing      Husband  White    Male   \n",
       "2      Married-civ-spouse    Protective-serv      Husband  White    Male   \n",
       "3      Married-civ-spouse  Machine-op-inspct      Husband  Black    Male   \n",
       "4           Never-married                NaN    Own-child  White  Female   \n",
       "...                   ...                ...          ...    ...     ...   \n",
       "48837  Married-civ-spouse       Tech-support         Wife  White  Female   \n",
       "48838  Married-civ-spouse  Machine-op-inspct      Husband  White    Male   \n",
       "48839             Widowed       Adm-clerical    Unmarried  White  Female   \n",
       "48840       Never-married       Adm-clerical    Own-child  White    Male   \n",
       "48841  Married-civ-spouse    Exec-managerial         Wife  White  Female   \n",
       "\n",
       "       capital-gain  capital-loss  hours-per-week native-country income  \n",
       "0                 0             0              40  United-States  <=50K  \n",
       "1                 0             0              50  United-States  <=50K  \n",
       "2                 0             0              40  United-States   >50K  \n",
       "3              7688             0              40  United-States   >50K  \n",
       "4                 0             0              30  United-States  <=50K  \n",
       "...             ...           ...             ...            ...    ...  \n",
       "48837             0             0              38  United-States  <=50K  \n",
       "48838             0             0              40  United-States   >50K  \n",
       "48839             0             0              40  United-States  <=50K  \n",
       "48840             0             0              20  United-States  <=50K  \n",
       "48841         15024             0              40  United-States   >50K  \n",
       "\n",
       "[48842 rows x 15 columns]"
      ]
     },
     "execution_count": 3,
     "metadata": {},
     "output_type": "execute_result"
    }
   ],
   "source": [
    "data = pd.read_csv(\"adult.csv\",na_values=\"?\",skipinitialspace =True)\n",
    "data"
   ]
  },
  {
   "cell_type": "code",
   "execution_count": 4,
   "id": "1bf3632d",
   "metadata": {},
   "outputs": [
    {
     "name": "stdout",
     "output_type": "stream",
     "text": [
      "<class 'pandas.core.frame.DataFrame'>\n",
      "RangeIndex: 48842 entries, 0 to 48841\n",
      "Data columns (total 15 columns):\n",
      " #   Column           Non-Null Count  Dtype \n",
      "---  ------           --------------  ----- \n",
      " 0   age              48842 non-null  int64 \n",
      " 1   workclass        46043 non-null  object\n",
      " 2   fnlwgt           48842 non-null  int64 \n",
      " 3   education        48842 non-null  object\n",
      " 4   educational-num  48842 non-null  int64 \n",
      " 5   marital-status   48842 non-null  object\n",
      " 6   occupation       46033 non-null  object\n",
      " 7   relationship     48842 non-null  object\n",
      " 8   race             48842 non-null  object\n",
      " 9   gender           48842 non-null  object\n",
      " 10  capital-gain     48842 non-null  int64 \n",
      " 11  capital-loss     48842 non-null  int64 \n",
      " 12  hours-per-week   48842 non-null  int64 \n",
      " 13  native-country   47985 non-null  object\n",
      " 14  income           48842 non-null  object\n",
      "dtypes: int64(6), object(9)\n",
      "memory usage: 5.6+ MB\n"
     ]
    }
   ],
   "source": [
    "data.info()"
   ]
  },
  {
   "cell_type": "code",
   "execution_count": 5,
   "id": "d234355a",
   "metadata": {},
   "outputs": [
    {
     "data": {
      "text/plain": [
       "Private             33906\n",
       "Self-emp-not-inc     3862\n",
       "Local-gov            3136\n",
       "State-gov            1981\n",
       "Self-emp-inc         1695\n",
       "Federal-gov          1432\n",
       "Without-pay            21\n",
       "Never-worked           10\n",
       "Name: workclass, dtype: int64"
      ]
     },
     "execution_count": 5,
     "metadata": {},
     "output_type": "execute_result"
    }
   ],
   "source": [
    "data['workclass'].value_counts()"
   ]
  },
  {
   "cell_type": "code",
   "execution_count": 6,
   "id": "f435cf20",
   "metadata": {},
   "outputs": [
    {
     "data": {
      "text/plain": [
       "array(['Private', 'Local-gov', nan, 'Self-emp-not-inc', 'Federal-gov',\n",
       "       'State-gov', 'Self-emp-inc', 'Without-pay', 'Never-worked'],\n",
       "      dtype=object)"
      ]
     },
     "execution_count": 6,
     "metadata": {},
     "output_type": "execute_result"
    }
   ],
   "source": [
    "data['workclass'].unique()"
   ]
  },
  {
   "cell_type": "code",
   "execution_count": 7,
   "id": "b0e8e6ce",
   "metadata": {},
   "outputs": [
    {
     "data": {
      "text/plain": [
       "8"
      ]
     },
     "execution_count": 7,
     "metadata": {},
     "output_type": "execute_result"
    }
   ],
   "source": [
    "data['workclass'].nunique()"
   ]
  },
  {
   "cell_type": "markdown",
   "id": "f174cfb4",
   "metadata": {},
   "source": [
    "# EDA"
   ]
  },
  {
   "cell_type": "code",
   "execution_count": 8,
   "id": "a5657987",
   "metadata": {},
   "outputs": [
    {
     "data": {
      "text/plain": [
       "(48842, 15)"
      ]
     },
     "execution_count": 8,
     "metadata": {},
     "output_type": "execute_result"
    }
   ],
   "source": [
    "data.shape"
   ]
  },
  {
   "cell_type": "code",
   "execution_count": 9,
   "id": "714c4707",
   "metadata": {},
   "outputs": [
    {
     "name": "stdout",
     "output_type": "stream",
     "text": [
      "<class 'pandas.core.frame.DataFrame'>\n",
      "RangeIndex: 48842 entries, 0 to 48841\n",
      "Data columns (total 15 columns):\n",
      " #   Column           Non-Null Count  Dtype \n",
      "---  ------           --------------  ----- \n",
      " 0   age              48842 non-null  int64 \n",
      " 1   workclass        46043 non-null  object\n",
      " 2   fnlwgt           48842 non-null  int64 \n",
      " 3   education        48842 non-null  object\n",
      " 4   educational-num  48842 non-null  int64 \n",
      " 5   marital-status   48842 non-null  object\n",
      " 6   occupation       46033 non-null  object\n",
      " 7   relationship     48842 non-null  object\n",
      " 8   race             48842 non-null  object\n",
      " 9   gender           48842 non-null  object\n",
      " 10  capital-gain     48842 non-null  int64 \n",
      " 11  capital-loss     48842 non-null  int64 \n",
      " 12  hours-per-week   48842 non-null  int64 \n",
      " 13  native-country   47985 non-null  object\n",
      " 14  income           48842 non-null  object\n",
      "dtypes: int64(6), object(9)\n",
      "memory usage: 5.6+ MB\n"
     ]
    }
   ],
   "source": [
    "data.info()"
   ]
  },
  {
   "cell_type": "code",
   "execution_count": 10,
   "id": "f8a201fb",
   "metadata": {},
   "outputs": [
    {
     "data": {
      "text/html": [
       "<div>\n",
       "<style scoped>\n",
       "    .dataframe tbody tr th:only-of-type {\n",
       "        vertical-align: middle;\n",
       "    }\n",
       "\n",
       "    .dataframe tbody tr th {\n",
       "        vertical-align: top;\n",
       "    }\n",
       "\n",
       "    .dataframe thead th {\n",
       "        text-align: right;\n",
       "    }\n",
       "</style>\n",
       "<table border=\"1\" class=\"dataframe\">\n",
       "  <thead>\n",
       "    <tr style=\"text-align: right;\">\n",
       "      <th></th>\n",
       "      <th>age</th>\n",
       "      <th>fnlwgt</th>\n",
       "      <th>educational-num</th>\n",
       "      <th>capital-gain</th>\n",
       "      <th>capital-loss</th>\n",
       "      <th>hours-per-week</th>\n",
       "    </tr>\n",
       "  </thead>\n",
       "  <tbody>\n",
       "    <tr>\n",
       "      <th>count</th>\n",
       "      <td>48842.000000</td>\n",
       "      <td>4.884200e+04</td>\n",
       "      <td>48842.000000</td>\n",
       "      <td>48842.000000</td>\n",
       "      <td>48842.000000</td>\n",
       "      <td>48842.000000</td>\n",
       "    </tr>\n",
       "    <tr>\n",
       "      <th>mean</th>\n",
       "      <td>38.643585</td>\n",
       "      <td>1.896641e+05</td>\n",
       "      <td>10.078089</td>\n",
       "      <td>1079.067626</td>\n",
       "      <td>87.502314</td>\n",
       "      <td>40.422382</td>\n",
       "    </tr>\n",
       "    <tr>\n",
       "      <th>std</th>\n",
       "      <td>13.710510</td>\n",
       "      <td>1.056040e+05</td>\n",
       "      <td>2.570973</td>\n",
       "      <td>7452.019058</td>\n",
       "      <td>403.004552</td>\n",
       "      <td>12.391444</td>\n",
       "    </tr>\n",
       "    <tr>\n",
       "      <th>min</th>\n",
       "      <td>17.000000</td>\n",
       "      <td>1.228500e+04</td>\n",
       "      <td>1.000000</td>\n",
       "      <td>0.000000</td>\n",
       "      <td>0.000000</td>\n",
       "      <td>1.000000</td>\n",
       "    </tr>\n",
       "    <tr>\n",
       "      <th>25%</th>\n",
       "      <td>28.000000</td>\n",
       "      <td>1.175505e+05</td>\n",
       "      <td>9.000000</td>\n",
       "      <td>0.000000</td>\n",
       "      <td>0.000000</td>\n",
       "      <td>40.000000</td>\n",
       "    </tr>\n",
       "    <tr>\n",
       "      <th>50%</th>\n",
       "      <td>37.000000</td>\n",
       "      <td>1.781445e+05</td>\n",
       "      <td>10.000000</td>\n",
       "      <td>0.000000</td>\n",
       "      <td>0.000000</td>\n",
       "      <td>40.000000</td>\n",
       "    </tr>\n",
       "    <tr>\n",
       "      <th>75%</th>\n",
       "      <td>48.000000</td>\n",
       "      <td>2.376420e+05</td>\n",
       "      <td>12.000000</td>\n",
       "      <td>0.000000</td>\n",
       "      <td>0.000000</td>\n",
       "      <td>45.000000</td>\n",
       "    </tr>\n",
       "    <tr>\n",
       "      <th>max</th>\n",
       "      <td>90.000000</td>\n",
       "      <td>1.490400e+06</td>\n",
       "      <td>16.000000</td>\n",
       "      <td>99999.000000</td>\n",
       "      <td>4356.000000</td>\n",
       "      <td>99.000000</td>\n",
       "    </tr>\n",
       "  </tbody>\n",
       "</table>\n",
       "</div>"
      ],
      "text/plain": [
       "                age        fnlwgt  educational-num  capital-gain  \\\n",
       "count  48842.000000  4.884200e+04     48842.000000  48842.000000   \n",
       "mean      38.643585  1.896641e+05        10.078089   1079.067626   \n",
       "std       13.710510  1.056040e+05         2.570973   7452.019058   \n",
       "min       17.000000  1.228500e+04         1.000000      0.000000   \n",
       "25%       28.000000  1.175505e+05         9.000000      0.000000   \n",
       "50%       37.000000  1.781445e+05        10.000000      0.000000   \n",
       "75%       48.000000  2.376420e+05        12.000000      0.000000   \n",
       "max       90.000000  1.490400e+06        16.000000  99999.000000   \n",
       "\n",
       "       capital-loss  hours-per-week  \n",
       "count  48842.000000    48842.000000  \n",
       "mean      87.502314       40.422382  \n",
       "std      403.004552       12.391444  \n",
       "min        0.000000        1.000000  \n",
       "25%        0.000000       40.000000  \n",
       "50%        0.000000       40.000000  \n",
       "75%        0.000000       45.000000  \n",
       "max     4356.000000       99.000000  "
      ]
     },
     "execution_count": 10,
     "metadata": {},
     "output_type": "execute_result"
    }
   ],
   "source": [
    "data.describe()"
   ]
  },
  {
   "cell_type": "code",
   "execution_count": 11,
   "id": "7483882d",
   "metadata": {},
   "outputs": [
    {
     "data": {
      "text/html": [
       "<div>\n",
       "<style scoped>\n",
       "    .dataframe tbody tr th:only-of-type {\n",
       "        vertical-align: middle;\n",
       "    }\n",
       "\n",
       "    .dataframe tbody tr th {\n",
       "        vertical-align: top;\n",
       "    }\n",
       "\n",
       "    .dataframe thead th {\n",
       "        text-align: right;\n",
       "    }\n",
       "</style>\n",
       "<table border=\"1\" class=\"dataframe\">\n",
       "  <thead>\n",
       "    <tr style=\"text-align: right;\">\n",
       "      <th></th>\n",
       "      <th>count</th>\n",
       "      <th>unique</th>\n",
       "      <th>top</th>\n",
       "      <th>freq</th>\n",
       "    </tr>\n",
       "  </thead>\n",
       "  <tbody>\n",
       "    <tr>\n",
       "      <th>workclass</th>\n",
       "      <td>46043</td>\n",
       "      <td>8</td>\n",
       "      <td>Private</td>\n",
       "      <td>33906</td>\n",
       "    </tr>\n",
       "    <tr>\n",
       "      <th>education</th>\n",
       "      <td>48842</td>\n",
       "      <td>16</td>\n",
       "      <td>HS-grad</td>\n",
       "      <td>15784</td>\n",
       "    </tr>\n",
       "    <tr>\n",
       "      <th>marital-status</th>\n",
       "      <td>48842</td>\n",
       "      <td>7</td>\n",
       "      <td>Married-civ-spouse</td>\n",
       "      <td>22379</td>\n",
       "    </tr>\n",
       "    <tr>\n",
       "      <th>occupation</th>\n",
       "      <td>46033</td>\n",
       "      <td>14</td>\n",
       "      <td>Prof-specialty</td>\n",
       "      <td>6172</td>\n",
       "    </tr>\n",
       "    <tr>\n",
       "      <th>relationship</th>\n",
       "      <td>48842</td>\n",
       "      <td>6</td>\n",
       "      <td>Husband</td>\n",
       "      <td>19716</td>\n",
       "    </tr>\n",
       "    <tr>\n",
       "      <th>race</th>\n",
       "      <td>48842</td>\n",
       "      <td>5</td>\n",
       "      <td>White</td>\n",
       "      <td>41762</td>\n",
       "    </tr>\n",
       "    <tr>\n",
       "      <th>gender</th>\n",
       "      <td>48842</td>\n",
       "      <td>2</td>\n",
       "      <td>Male</td>\n",
       "      <td>32650</td>\n",
       "    </tr>\n",
       "    <tr>\n",
       "      <th>native-country</th>\n",
       "      <td>47985</td>\n",
       "      <td>41</td>\n",
       "      <td>United-States</td>\n",
       "      <td>43832</td>\n",
       "    </tr>\n",
       "    <tr>\n",
       "      <th>income</th>\n",
       "      <td>48842</td>\n",
       "      <td>2</td>\n",
       "      <td>&lt;=50K</td>\n",
       "      <td>37155</td>\n",
       "    </tr>\n",
       "  </tbody>\n",
       "</table>\n",
       "</div>"
      ],
      "text/plain": [
       "                count unique                 top   freq\n",
       "workclass       46043      8             Private  33906\n",
       "education       48842     16             HS-grad  15784\n",
       "marital-status  48842      7  Married-civ-spouse  22379\n",
       "occupation      46033     14      Prof-specialty   6172\n",
       "relationship    48842      6             Husband  19716\n",
       "race            48842      5               White  41762\n",
       "gender          48842      2                Male  32650\n",
       "native-country  47985     41       United-States  43832\n",
       "income          48842      2               <=50K  37155"
      ]
     },
     "execution_count": 11,
     "metadata": {},
     "output_type": "execute_result"
    }
   ],
   "source": [
    "data.describe(include='O').T"
   ]
  },
  {
   "cell_type": "code",
   "execution_count": 12,
   "id": "0bdd6262",
   "metadata": {},
   "outputs": [
    {
     "data": {
      "text/plain": [
       "age                   0\n",
       "workclass          2799\n",
       "fnlwgt                0\n",
       "education             0\n",
       "educational-num       0\n",
       "marital-status        0\n",
       "occupation         2809\n",
       "relationship          0\n",
       "race                  0\n",
       "gender                0\n",
       "capital-gain          0\n",
       "capital-loss          0\n",
       "hours-per-week        0\n",
       "native-country      857\n",
       "income                0\n",
       "dtype: int64"
      ]
     },
     "execution_count": 12,
     "metadata": {},
     "output_type": "execute_result"
    }
   ],
   "source": [
    "data.isnull().sum()"
   ]
  },
  {
   "cell_type": "code",
   "execution_count": 13,
   "id": "c91e14f9",
   "metadata": {},
   "outputs": [],
   "source": [
    "data=data.dropna()"
   ]
  },
  {
   "cell_type": "code",
   "execution_count": 14,
   "id": "06d6a955",
   "metadata": {},
   "outputs": [
    {
     "data": {
      "text/plain": [
       "age                0\n",
       "workclass          0\n",
       "fnlwgt             0\n",
       "education          0\n",
       "educational-num    0\n",
       "marital-status     0\n",
       "occupation         0\n",
       "relationship       0\n",
       "race               0\n",
       "gender             0\n",
       "capital-gain       0\n",
       "capital-loss       0\n",
       "hours-per-week     0\n",
       "native-country     0\n",
       "income             0\n",
       "dtype: int64"
      ]
     },
     "execution_count": 14,
     "metadata": {},
     "output_type": "execute_result"
    }
   ],
   "source": [
    "data.isnull().sum()"
   ]
  },
  {
   "cell_type": "code",
   "execution_count": 15,
   "id": "82806b49",
   "metadata": {},
   "outputs": [
    {
     "name": "stdout",
     "output_type": "stream",
     "text": [
      "<class 'pandas.core.frame.DataFrame'>\n",
      "Int64Index: 45222 entries, 0 to 48841\n",
      "Data columns (total 15 columns):\n",
      " #   Column           Non-Null Count  Dtype \n",
      "---  ------           --------------  ----- \n",
      " 0   age              45222 non-null  int64 \n",
      " 1   workclass        45222 non-null  object\n",
      " 2   fnlwgt           45222 non-null  int64 \n",
      " 3   education        45222 non-null  object\n",
      " 4   educational-num  45222 non-null  int64 \n",
      " 5   marital-status   45222 non-null  object\n",
      " 6   occupation       45222 non-null  object\n",
      " 7   relationship     45222 non-null  object\n",
      " 8   race             45222 non-null  object\n",
      " 9   gender           45222 non-null  object\n",
      " 10  capital-gain     45222 non-null  int64 \n",
      " 11  capital-loss     45222 non-null  int64 \n",
      " 12  hours-per-week   45222 non-null  int64 \n",
      " 13  native-country   45222 non-null  object\n",
      " 14  income           45222 non-null  object\n",
      "dtypes: int64(6), object(9)\n",
      "memory usage: 5.5+ MB\n"
     ]
    }
   ],
   "source": [
    "data.info()"
   ]
  },
  {
   "cell_type": "code",
   "execution_count": 16,
   "id": "66d87c9b",
   "metadata": {},
   "outputs": [
    {
     "data": {
      "text/plain": [
       "<=50K    34014\n",
       ">50K     11208\n",
       "Name: income, dtype: int64"
      ]
     },
     "execution_count": 16,
     "metadata": {},
     "output_type": "execute_result"
    }
   ],
   "source": [
    "data['income'].value_counts()"
   ]
  },
  {
   "cell_type": "code",
   "execution_count": 17,
   "id": "461a53ca",
   "metadata": {},
   "outputs": [
    {
     "data": {
      "text/html": [
       "<div>\n",
       "<style scoped>\n",
       "    .dataframe tbody tr th:only-of-type {\n",
       "        vertical-align: middle;\n",
       "    }\n",
       "\n",
       "    .dataframe tbody tr th {\n",
       "        vertical-align: top;\n",
       "    }\n",
       "\n",
       "    .dataframe thead th {\n",
       "        text-align: right;\n",
       "    }\n",
       "</style>\n",
       "<table border=\"1\" class=\"dataframe\">\n",
       "  <thead>\n",
       "    <tr style=\"text-align: right;\">\n",
       "      <th></th>\n",
       "      <th>age</th>\n",
       "      <th>workclass</th>\n",
       "      <th>fnlwgt</th>\n",
       "      <th>education</th>\n",
       "      <th>educational-num</th>\n",
       "      <th>marital-status</th>\n",
       "      <th>occupation</th>\n",
       "      <th>relationship</th>\n",
       "      <th>race</th>\n",
       "      <th>gender</th>\n",
       "      <th>capital-gain</th>\n",
       "      <th>capital-loss</th>\n",
       "      <th>hours-per-week</th>\n",
       "      <th>native-country</th>\n",
       "      <th>income</th>\n",
       "    </tr>\n",
       "  </thead>\n",
       "  <tbody>\n",
       "    <tr>\n",
       "      <th>0</th>\n",
       "      <td>25</td>\n",
       "      <td>Private</td>\n",
       "      <td>226802</td>\n",
       "      <td>11th</td>\n",
       "      <td>7</td>\n",
       "      <td>Never-married</td>\n",
       "      <td>Machine-op-inspct</td>\n",
       "      <td>Own-child</td>\n",
       "      <td>Black</td>\n",
       "      <td>Male</td>\n",
       "      <td>0</td>\n",
       "      <td>0</td>\n",
       "      <td>40</td>\n",
       "      <td>United-States</td>\n",
       "      <td>0</td>\n",
       "    </tr>\n",
       "    <tr>\n",
       "      <th>1</th>\n",
       "      <td>38</td>\n",
       "      <td>Private</td>\n",
       "      <td>89814</td>\n",
       "      <td>HS-grad</td>\n",
       "      <td>9</td>\n",
       "      <td>Married-civ-spouse</td>\n",
       "      <td>Farming-fishing</td>\n",
       "      <td>Husband</td>\n",
       "      <td>White</td>\n",
       "      <td>Male</td>\n",
       "      <td>0</td>\n",
       "      <td>0</td>\n",
       "      <td>50</td>\n",
       "      <td>United-States</td>\n",
       "      <td>0</td>\n",
       "    </tr>\n",
       "    <tr>\n",
       "      <th>2</th>\n",
       "      <td>28</td>\n",
       "      <td>Local-gov</td>\n",
       "      <td>336951</td>\n",
       "      <td>Assoc-acdm</td>\n",
       "      <td>12</td>\n",
       "      <td>Married-civ-spouse</td>\n",
       "      <td>Protective-serv</td>\n",
       "      <td>Husband</td>\n",
       "      <td>White</td>\n",
       "      <td>Male</td>\n",
       "      <td>0</td>\n",
       "      <td>0</td>\n",
       "      <td>40</td>\n",
       "      <td>United-States</td>\n",
       "      <td>1</td>\n",
       "    </tr>\n",
       "    <tr>\n",
       "      <th>3</th>\n",
       "      <td>44</td>\n",
       "      <td>Private</td>\n",
       "      <td>160323</td>\n",
       "      <td>Some-college</td>\n",
       "      <td>10</td>\n",
       "      <td>Married-civ-spouse</td>\n",
       "      <td>Machine-op-inspct</td>\n",
       "      <td>Husband</td>\n",
       "      <td>Black</td>\n",
       "      <td>Male</td>\n",
       "      <td>7688</td>\n",
       "      <td>0</td>\n",
       "      <td>40</td>\n",
       "      <td>United-States</td>\n",
       "      <td>1</td>\n",
       "    </tr>\n",
       "    <tr>\n",
       "      <th>5</th>\n",
       "      <td>34</td>\n",
       "      <td>Private</td>\n",
       "      <td>198693</td>\n",
       "      <td>10th</td>\n",
       "      <td>6</td>\n",
       "      <td>Never-married</td>\n",
       "      <td>Other-service</td>\n",
       "      <td>Not-in-family</td>\n",
       "      <td>White</td>\n",
       "      <td>Male</td>\n",
       "      <td>0</td>\n",
       "      <td>0</td>\n",
       "      <td>30</td>\n",
       "      <td>United-States</td>\n",
       "      <td>0</td>\n",
       "    </tr>\n",
       "    <tr>\n",
       "      <th>7</th>\n",
       "      <td>63</td>\n",
       "      <td>Self-emp-not-inc</td>\n",
       "      <td>104626</td>\n",
       "      <td>Prof-school</td>\n",
       "      <td>15</td>\n",
       "      <td>Married-civ-spouse</td>\n",
       "      <td>Prof-specialty</td>\n",
       "      <td>Husband</td>\n",
       "      <td>White</td>\n",
       "      <td>Male</td>\n",
       "      <td>3103</td>\n",
       "      <td>0</td>\n",
       "      <td>32</td>\n",
       "      <td>United-States</td>\n",
       "      <td>1</td>\n",
       "    </tr>\n",
       "    <tr>\n",
       "      <th>8</th>\n",
       "      <td>24</td>\n",
       "      <td>Private</td>\n",
       "      <td>369667</td>\n",
       "      <td>Some-college</td>\n",
       "      <td>10</td>\n",
       "      <td>Never-married</td>\n",
       "      <td>Other-service</td>\n",
       "      <td>Unmarried</td>\n",
       "      <td>White</td>\n",
       "      <td>Female</td>\n",
       "      <td>0</td>\n",
       "      <td>0</td>\n",
       "      <td>40</td>\n",
       "      <td>United-States</td>\n",
       "      <td>0</td>\n",
       "    </tr>\n",
       "    <tr>\n",
       "      <th>9</th>\n",
       "      <td>55</td>\n",
       "      <td>Private</td>\n",
       "      <td>104996</td>\n",
       "      <td>7th-8th</td>\n",
       "      <td>4</td>\n",
       "      <td>Married-civ-spouse</td>\n",
       "      <td>Craft-repair</td>\n",
       "      <td>Husband</td>\n",
       "      <td>White</td>\n",
       "      <td>Male</td>\n",
       "      <td>0</td>\n",
       "      <td>0</td>\n",
       "      <td>10</td>\n",
       "      <td>United-States</td>\n",
       "      <td>0</td>\n",
       "    </tr>\n",
       "    <tr>\n",
       "      <th>10</th>\n",
       "      <td>65</td>\n",
       "      <td>Private</td>\n",
       "      <td>184454</td>\n",
       "      <td>HS-grad</td>\n",
       "      <td>9</td>\n",
       "      <td>Married-civ-spouse</td>\n",
       "      <td>Machine-op-inspct</td>\n",
       "      <td>Husband</td>\n",
       "      <td>White</td>\n",
       "      <td>Male</td>\n",
       "      <td>6418</td>\n",
       "      <td>0</td>\n",
       "      <td>40</td>\n",
       "      <td>United-States</td>\n",
       "      <td>1</td>\n",
       "    </tr>\n",
       "    <tr>\n",
       "      <th>11</th>\n",
       "      <td>36</td>\n",
       "      <td>Federal-gov</td>\n",
       "      <td>212465</td>\n",
       "      <td>Bachelors</td>\n",
       "      <td>13</td>\n",
       "      <td>Married-civ-spouse</td>\n",
       "      <td>Adm-clerical</td>\n",
       "      <td>Husband</td>\n",
       "      <td>White</td>\n",
       "      <td>Male</td>\n",
       "      <td>0</td>\n",
       "      <td>0</td>\n",
       "      <td>40</td>\n",
       "      <td>United-States</td>\n",
       "      <td>0</td>\n",
       "    </tr>\n",
       "    <tr>\n",
       "      <th>12</th>\n",
       "      <td>26</td>\n",
       "      <td>Private</td>\n",
       "      <td>82091</td>\n",
       "      <td>HS-grad</td>\n",
       "      <td>9</td>\n",
       "      <td>Never-married</td>\n",
       "      <td>Adm-clerical</td>\n",
       "      <td>Not-in-family</td>\n",
       "      <td>White</td>\n",
       "      <td>Female</td>\n",
       "      <td>0</td>\n",
       "      <td>0</td>\n",
       "      <td>39</td>\n",
       "      <td>United-States</td>\n",
       "      <td>0</td>\n",
       "    </tr>\n",
       "    <tr>\n",
       "      <th>14</th>\n",
       "      <td>48</td>\n",
       "      <td>Private</td>\n",
       "      <td>279724</td>\n",
       "      <td>HS-grad</td>\n",
       "      <td>9</td>\n",
       "      <td>Married-civ-spouse</td>\n",
       "      <td>Machine-op-inspct</td>\n",
       "      <td>Husband</td>\n",
       "      <td>White</td>\n",
       "      <td>Male</td>\n",
       "      <td>3103</td>\n",
       "      <td>0</td>\n",
       "      <td>48</td>\n",
       "      <td>United-States</td>\n",
       "      <td>1</td>\n",
       "    </tr>\n",
       "    <tr>\n",
       "      <th>15</th>\n",
       "      <td>43</td>\n",
       "      <td>Private</td>\n",
       "      <td>346189</td>\n",
       "      <td>Masters</td>\n",
       "      <td>14</td>\n",
       "      <td>Married-civ-spouse</td>\n",
       "      <td>Exec-managerial</td>\n",
       "      <td>Husband</td>\n",
       "      <td>White</td>\n",
       "      <td>Male</td>\n",
       "      <td>0</td>\n",
       "      <td>0</td>\n",
       "      <td>50</td>\n",
       "      <td>United-States</td>\n",
       "      <td>1</td>\n",
       "    </tr>\n",
       "    <tr>\n",
       "      <th>16</th>\n",
       "      <td>20</td>\n",
       "      <td>State-gov</td>\n",
       "      <td>444554</td>\n",
       "      <td>Some-college</td>\n",
       "      <td>10</td>\n",
       "      <td>Never-married</td>\n",
       "      <td>Other-service</td>\n",
       "      <td>Own-child</td>\n",
       "      <td>White</td>\n",
       "      <td>Male</td>\n",
       "      <td>0</td>\n",
       "      <td>0</td>\n",
       "      <td>25</td>\n",
       "      <td>United-States</td>\n",
       "      <td>0</td>\n",
       "    </tr>\n",
       "    <tr>\n",
       "      <th>17</th>\n",
       "      <td>43</td>\n",
       "      <td>Private</td>\n",
       "      <td>128354</td>\n",
       "      <td>HS-grad</td>\n",
       "      <td>9</td>\n",
       "      <td>Married-civ-spouse</td>\n",
       "      <td>Adm-clerical</td>\n",
       "      <td>Wife</td>\n",
       "      <td>White</td>\n",
       "      <td>Female</td>\n",
       "      <td>0</td>\n",
       "      <td>0</td>\n",
       "      <td>30</td>\n",
       "      <td>United-States</td>\n",
       "      <td>0</td>\n",
       "    </tr>\n",
       "    <tr>\n",
       "      <th>18</th>\n",
       "      <td>37</td>\n",
       "      <td>Private</td>\n",
       "      <td>60548</td>\n",
       "      <td>HS-grad</td>\n",
       "      <td>9</td>\n",
       "      <td>Widowed</td>\n",
       "      <td>Machine-op-inspct</td>\n",
       "      <td>Unmarried</td>\n",
       "      <td>White</td>\n",
       "      <td>Female</td>\n",
       "      <td>0</td>\n",
       "      <td>0</td>\n",
       "      <td>20</td>\n",
       "      <td>United-States</td>\n",
       "      <td>0</td>\n",
       "    </tr>\n",
       "    <tr>\n",
       "      <th>20</th>\n",
       "      <td>34</td>\n",
       "      <td>Private</td>\n",
       "      <td>107914</td>\n",
       "      <td>Bachelors</td>\n",
       "      <td>13</td>\n",
       "      <td>Married-civ-spouse</td>\n",
       "      <td>Tech-support</td>\n",
       "      <td>Husband</td>\n",
       "      <td>White</td>\n",
       "      <td>Male</td>\n",
       "      <td>0</td>\n",
       "      <td>0</td>\n",
       "      <td>47</td>\n",
       "      <td>United-States</td>\n",
       "      <td>1</td>\n",
       "    </tr>\n",
       "    <tr>\n",
       "      <th>21</th>\n",
       "      <td>34</td>\n",
       "      <td>Private</td>\n",
       "      <td>238588</td>\n",
       "      <td>Some-college</td>\n",
       "      <td>10</td>\n",
       "      <td>Never-married</td>\n",
       "      <td>Other-service</td>\n",
       "      <td>Own-child</td>\n",
       "      <td>Black</td>\n",
       "      <td>Female</td>\n",
       "      <td>0</td>\n",
       "      <td>0</td>\n",
       "      <td>35</td>\n",
       "      <td>United-States</td>\n",
       "      <td>0</td>\n",
       "    </tr>\n",
       "    <tr>\n",
       "      <th>23</th>\n",
       "      <td>25</td>\n",
       "      <td>Private</td>\n",
       "      <td>220931</td>\n",
       "      <td>Bachelors</td>\n",
       "      <td>13</td>\n",
       "      <td>Never-married</td>\n",
       "      <td>Prof-specialty</td>\n",
       "      <td>Not-in-family</td>\n",
       "      <td>White</td>\n",
       "      <td>Male</td>\n",
       "      <td>0</td>\n",
       "      <td>0</td>\n",
       "      <td>43</td>\n",
       "      <td>Peru</td>\n",
       "      <td>0</td>\n",
       "    </tr>\n",
       "    <tr>\n",
       "      <th>24</th>\n",
       "      <td>25</td>\n",
       "      <td>Private</td>\n",
       "      <td>205947</td>\n",
       "      <td>Bachelors</td>\n",
       "      <td>13</td>\n",
       "      <td>Married-civ-spouse</td>\n",
       "      <td>Prof-specialty</td>\n",
       "      <td>Husband</td>\n",
       "      <td>White</td>\n",
       "      <td>Male</td>\n",
       "      <td>0</td>\n",
       "      <td>0</td>\n",
       "      <td>40</td>\n",
       "      <td>United-States</td>\n",
       "      <td>0</td>\n",
       "    </tr>\n",
       "    <tr>\n",
       "      <th>25</th>\n",
       "      <td>45</td>\n",
       "      <td>Self-emp-not-inc</td>\n",
       "      <td>432824</td>\n",
       "      <td>HS-grad</td>\n",
       "      <td>9</td>\n",
       "      <td>Married-civ-spouse</td>\n",
       "      <td>Craft-repair</td>\n",
       "      <td>Husband</td>\n",
       "      <td>White</td>\n",
       "      <td>Male</td>\n",
       "      <td>7298</td>\n",
       "      <td>0</td>\n",
       "      <td>90</td>\n",
       "      <td>United-States</td>\n",
       "      <td>1</td>\n",
       "    </tr>\n",
       "    <tr>\n",
       "      <th>26</th>\n",
       "      <td>22</td>\n",
       "      <td>Private</td>\n",
       "      <td>236427</td>\n",
       "      <td>HS-grad</td>\n",
       "      <td>9</td>\n",
       "      <td>Never-married</td>\n",
       "      <td>Adm-clerical</td>\n",
       "      <td>Own-child</td>\n",
       "      <td>White</td>\n",
       "      <td>Male</td>\n",
       "      <td>0</td>\n",
       "      <td>0</td>\n",
       "      <td>20</td>\n",
       "      <td>United-States</td>\n",
       "      <td>0</td>\n",
       "    </tr>\n",
       "    <tr>\n",
       "      <th>27</th>\n",
       "      <td>23</td>\n",
       "      <td>Private</td>\n",
       "      <td>134446</td>\n",
       "      <td>HS-grad</td>\n",
       "      <td>9</td>\n",
       "      <td>Separated</td>\n",
       "      <td>Machine-op-inspct</td>\n",
       "      <td>Unmarried</td>\n",
       "      <td>Black</td>\n",
       "      <td>Male</td>\n",
       "      <td>0</td>\n",
       "      <td>0</td>\n",
       "      <td>54</td>\n",
       "      <td>United-States</td>\n",
       "      <td>0</td>\n",
       "    </tr>\n",
       "    <tr>\n",
       "      <th>28</th>\n",
       "      <td>54</td>\n",
       "      <td>Private</td>\n",
       "      <td>99516</td>\n",
       "      <td>HS-grad</td>\n",
       "      <td>9</td>\n",
       "      <td>Married-civ-spouse</td>\n",
       "      <td>Craft-repair</td>\n",
       "      <td>Husband</td>\n",
       "      <td>White</td>\n",
       "      <td>Male</td>\n",
       "      <td>0</td>\n",
       "      <td>0</td>\n",
       "      <td>35</td>\n",
       "      <td>United-States</td>\n",
       "      <td>0</td>\n",
       "    </tr>\n",
       "    <tr>\n",
       "      <th>29</th>\n",
       "      <td>32</td>\n",
       "      <td>Self-emp-not-inc</td>\n",
       "      <td>109282</td>\n",
       "      <td>Some-college</td>\n",
       "      <td>10</td>\n",
       "      <td>Never-married</td>\n",
       "      <td>Prof-specialty</td>\n",
       "      <td>Not-in-family</td>\n",
       "      <td>White</td>\n",
       "      <td>Male</td>\n",
       "      <td>0</td>\n",
       "      <td>0</td>\n",
       "      <td>60</td>\n",
       "      <td>United-States</td>\n",
       "      <td>0</td>\n",
       "    </tr>\n",
       "    <tr>\n",
       "      <th>30</th>\n",
       "      <td>46</td>\n",
       "      <td>State-gov</td>\n",
       "      <td>106444</td>\n",
       "      <td>Some-college</td>\n",
       "      <td>10</td>\n",
       "      <td>Married-civ-spouse</td>\n",
       "      <td>Exec-managerial</td>\n",
       "      <td>Husband</td>\n",
       "      <td>Black</td>\n",
       "      <td>Male</td>\n",
       "      <td>7688</td>\n",
       "      <td>0</td>\n",
       "      <td>38</td>\n",
       "      <td>United-States</td>\n",
       "      <td>1</td>\n",
       "    </tr>\n",
       "    <tr>\n",
       "      <th>31</th>\n",
       "      <td>56</td>\n",
       "      <td>Self-emp-not-inc</td>\n",
       "      <td>186651</td>\n",
       "      <td>11th</td>\n",
       "      <td>7</td>\n",
       "      <td>Widowed</td>\n",
       "      <td>Other-service</td>\n",
       "      <td>Unmarried</td>\n",
       "      <td>White</td>\n",
       "      <td>Female</td>\n",
       "      <td>0</td>\n",
       "      <td>0</td>\n",
       "      <td>50</td>\n",
       "      <td>United-States</td>\n",
       "      <td>0</td>\n",
       "    </tr>\n",
       "    <tr>\n",
       "      <th>32</th>\n",
       "      <td>24</td>\n",
       "      <td>Self-emp-not-inc</td>\n",
       "      <td>188274</td>\n",
       "      <td>Bachelors</td>\n",
       "      <td>13</td>\n",
       "      <td>Never-married</td>\n",
       "      <td>Sales</td>\n",
       "      <td>Not-in-family</td>\n",
       "      <td>White</td>\n",
       "      <td>Male</td>\n",
       "      <td>0</td>\n",
       "      <td>0</td>\n",
       "      <td>50</td>\n",
       "      <td>United-States</td>\n",
       "      <td>0</td>\n",
       "    </tr>\n",
       "    <tr>\n",
       "      <th>33</th>\n",
       "      <td>23</td>\n",
       "      <td>Local-gov</td>\n",
       "      <td>258120</td>\n",
       "      <td>Some-college</td>\n",
       "      <td>10</td>\n",
       "      <td>Married-civ-spouse</td>\n",
       "      <td>Protective-serv</td>\n",
       "      <td>Husband</td>\n",
       "      <td>White</td>\n",
       "      <td>Male</td>\n",
       "      <td>0</td>\n",
       "      <td>0</td>\n",
       "      <td>40</td>\n",
       "      <td>United-States</td>\n",
       "      <td>0</td>\n",
       "    </tr>\n",
       "    <tr>\n",
       "      <th>34</th>\n",
       "      <td>26</td>\n",
       "      <td>Private</td>\n",
       "      <td>43311</td>\n",
       "      <td>HS-grad</td>\n",
       "      <td>9</td>\n",
       "      <td>Divorced</td>\n",
       "      <td>Exec-managerial</td>\n",
       "      <td>Unmarried</td>\n",
       "      <td>White</td>\n",
       "      <td>Female</td>\n",
       "      <td>0</td>\n",
       "      <td>0</td>\n",
       "      <td>40</td>\n",
       "      <td>United-States</td>\n",
       "      <td>0</td>\n",
       "    </tr>\n",
       "  </tbody>\n",
       "</table>\n",
       "</div>"
      ],
      "text/plain": [
       "    age         workclass  fnlwgt     education  educational-num  \\\n",
       "0    25           Private  226802          11th                7   \n",
       "1    38           Private   89814       HS-grad                9   \n",
       "2    28         Local-gov  336951    Assoc-acdm               12   \n",
       "3    44           Private  160323  Some-college               10   \n",
       "5    34           Private  198693          10th                6   \n",
       "7    63  Self-emp-not-inc  104626   Prof-school               15   \n",
       "8    24           Private  369667  Some-college               10   \n",
       "9    55           Private  104996       7th-8th                4   \n",
       "10   65           Private  184454       HS-grad                9   \n",
       "11   36       Federal-gov  212465     Bachelors               13   \n",
       "12   26           Private   82091       HS-grad                9   \n",
       "14   48           Private  279724       HS-grad                9   \n",
       "15   43           Private  346189       Masters               14   \n",
       "16   20         State-gov  444554  Some-college               10   \n",
       "17   43           Private  128354       HS-grad                9   \n",
       "18   37           Private   60548       HS-grad                9   \n",
       "20   34           Private  107914     Bachelors               13   \n",
       "21   34           Private  238588  Some-college               10   \n",
       "23   25           Private  220931     Bachelors               13   \n",
       "24   25           Private  205947     Bachelors               13   \n",
       "25   45  Self-emp-not-inc  432824       HS-grad                9   \n",
       "26   22           Private  236427       HS-grad                9   \n",
       "27   23           Private  134446       HS-grad                9   \n",
       "28   54           Private   99516       HS-grad                9   \n",
       "29   32  Self-emp-not-inc  109282  Some-college               10   \n",
       "30   46         State-gov  106444  Some-college               10   \n",
       "31   56  Self-emp-not-inc  186651          11th                7   \n",
       "32   24  Self-emp-not-inc  188274     Bachelors               13   \n",
       "33   23         Local-gov  258120  Some-college               10   \n",
       "34   26           Private   43311       HS-grad                9   \n",
       "\n",
       "        marital-status         occupation   relationship   race  gender  \\\n",
       "0        Never-married  Machine-op-inspct      Own-child  Black    Male   \n",
       "1   Married-civ-spouse    Farming-fishing        Husband  White    Male   \n",
       "2   Married-civ-spouse    Protective-serv        Husband  White    Male   \n",
       "3   Married-civ-spouse  Machine-op-inspct        Husband  Black    Male   \n",
       "5        Never-married      Other-service  Not-in-family  White    Male   \n",
       "7   Married-civ-spouse     Prof-specialty        Husband  White    Male   \n",
       "8        Never-married      Other-service      Unmarried  White  Female   \n",
       "9   Married-civ-spouse       Craft-repair        Husband  White    Male   \n",
       "10  Married-civ-spouse  Machine-op-inspct        Husband  White    Male   \n",
       "11  Married-civ-spouse       Adm-clerical        Husband  White    Male   \n",
       "12       Never-married       Adm-clerical  Not-in-family  White  Female   \n",
       "14  Married-civ-spouse  Machine-op-inspct        Husband  White    Male   \n",
       "15  Married-civ-spouse    Exec-managerial        Husband  White    Male   \n",
       "16       Never-married      Other-service      Own-child  White    Male   \n",
       "17  Married-civ-spouse       Adm-clerical           Wife  White  Female   \n",
       "18             Widowed  Machine-op-inspct      Unmarried  White  Female   \n",
       "20  Married-civ-spouse       Tech-support        Husband  White    Male   \n",
       "21       Never-married      Other-service      Own-child  Black  Female   \n",
       "23       Never-married     Prof-specialty  Not-in-family  White    Male   \n",
       "24  Married-civ-spouse     Prof-specialty        Husband  White    Male   \n",
       "25  Married-civ-spouse       Craft-repair        Husband  White    Male   \n",
       "26       Never-married       Adm-clerical      Own-child  White    Male   \n",
       "27           Separated  Machine-op-inspct      Unmarried  Black    Male   \n",
       "28  Married-civ-spouse       Craft-repair        Husband  White    Male   \n",
       "29       Never-married     Prof-specialty  Not-in-family  White    Male   \n",
       "30  Married-civ-spouse    Exec-managerial        Husband  Black    Male   \n",
       "31             Widowed      Other-service      Unmarried  White  Female   \n",
       "32       Never-married              Sales  Not-in-family  White    Male   \n",
       "33  Married-civ-spouse    Protective-serv        Husband  White    Male   \n",
       "34            Divorced    Exec-managerial      Unmarried  White  Female   \n",
       "\n",
       "    capital-gain  capital-loss  hours-per-week native-country  income  \n",
       "0              0             0              40  United-States       0  \n",
       "1              0             0              50  United-States       0  \n",
       "2              0             0              40  United-States       1  \n",
       "3           7688             0              40  United-States       1  \n",
       "5              0             0              30  United-States       0  \n",
       "7           3103             0              32  United-States       1  \n",
       "8              0             0              40  United-States       0  \n",
       "9              0             0              10  United-States       0  \n",
       "10          6418             0              40  United-States       1  \n",
       "11             0             0              40  United-States       0  \n",
       "12             0             0              39  United-States       0  \n",
       "14          3103             0              48  United-States       1  \n",
       "15             0             0              50  United-States       1  \n",
       "16             0             0              25  United-States       0  \n",
       "17             0             0              30  United-States       0  \n",
       "18             0             0              20  United-States       0  \n",
       "20             0             0              47  United-States       1  \n",
       "21             0             0              35  United-States       0  \n",
       "23             0             0              43           Peru       0  \n",
       "24             0             0              40  United-States       0  \n",
       "25          7298             0              90  United-States       1  \n",
       "26             0             0              20  United-States       0  \n",
       "27             0             0              54  United-States       0  \n",
       "28             0             0              35  United-States       0  \n",
       "29             0             0              60  United-States       0  \n",
       "30          7688             0              38  United-States       1  \n",
       "31             0             0              50  United-States       0  \n",
       "32             0             0              50  United-States       0  \n",
       "33             0             0              40  United-States       0  \n",
       "34             0             0              40  United-States       0  "
      ]
     },
     "execution_count": 17,
     "metadata": {},
     "output_type": "execute_result"
    }
   ],
   "source": [
    "data['income']=data['income'].map({'<=50K': 0, '>50K': 1})\n",
    "data.head(30)"
   ]
  },
  {
   "cell_type": "code",
   "execution_count": 18,
   "id": "40a7cf1d",
   "metadata": {},
   "outputs": [
    {
     "data": {
      "text/html": [
       "<div>\n",
       "<style scoped>\n",
       "    .dataframe tbody tr th:only-of-type {\n",
       "        vertical-align: middle;\n",
       "    }\n",
       "\n",
       "    .dataframe tbody tr th {\n",
       "        vertical-align: top;\n",
       "    }\n",
       "\n",
       "    .dataframe thead th {\n",
       "        text-align: right;\n",
       "    }\n",
       "</style>\n",
       "<table border=\"1\" class=\"dataframe\">\n",
       "  <thead>\n",
       "    <tr style=\"text-align: right;\">\n",
       "      <th></th>\n",
       "      <th>age</th>\n",
       "      <th>fnlwgt</th>\n",
       "      <th>capital-gain</th>\n",
       "      <th>capital-loss</th>\n",
       "      <th>hours-per-week</th>\n",
       "    </tr>\n",
       "  </thead>\n",
       "  <tbody>\n",
       "    <tr>\n",
       "      <th>count</th>\n",
       "      <td>45222.000000</td>\n",
       "      <td>4.522200e+04</td>\n",
       "      <td>45222.000000</td>\n",
       "      <td>45222.000000</td>\n",
       "      <td>45222.000000</td>\n",
       "    </tr>\n",
       "    <tr>\n",
       "      <th>mean</th>\n",
       "      <td>38.547941</td>\n",
       "      <td>1.897347e+05</td>\n",
       "      <td>1101.430344</td>\n",
       "      <td>88.595418</td>\n",
       "      <td>40.938017</td>\n",
       "    </tr>\n",
       "    <tr>\n",
       "      <th>std</th>\n",
       "      <td>13.217870</td>\n",
       "      <td>1.056392e+05</td>\n",
       "      <td>7506.430084</td>\n",
       "      <td>404.956092</td>\n",
       "      <td>12.007508</td>\n",
       "    </tr>\n",
       "    <tr>\n",
       "      <th>min</th>\n",
       "      <td>17.000000</td>\n",
       "      <td>1.349200e+04</td>\n",
       "      <td>0.000000</td>\n",
       "      <td>0.000000</td>\n",
       "      <td>1.000000</td>\n",
       "    </tr>\n",
       "    <tr>\n",
       "      <th>25%</th>\n",
       "      <td>28.000000</td>\n",
       "      <td>1.173882e+05</td>\n",
       "      <td>0.000000</td>\n",
       "      <td>0.000000</td>\n",
       "      <td>40.000000</td>\n",
       "    </tr>\n",
       "    <tr>\n",
       "      <th>50%</th>\n",
       "      <td>37.000000</td>\n",
       "      <td>1.783160e+05</td>\n",
       "      <td>0.000000</td>\n",
       "      <td>0.000000</td>\n",
       "      <td>40.000000</td>\n",
       "    </tr>\n",
       "    <tr>\n",
       "      <th>75%</th>\n",
       "      <td>47.000000</td>\n",
       "      <td>2.379260e+05</td>\n",
       "      <td>0.000000</td>\n",
       "      <td>0.000000</td>\n",
       "      <td>45.000000</td>\n",
       "    </tr>\n",
       "    <tr>\n",
       "      <th>max</th>\n",
       "      <td>90.000000</td>\n",
       "      <td>1.490400e+06</td>\n",
       "      <td>99999.000000</td>\n",
       "      <td>4356.000000</td>\n",
       "      <td>99.000000</td>\n",
       "    </tr>\n",
       "  </tbody>\n",
       "</table>\n",
       "</div>"
      ],
      "text/plain": [
       "                age        fnlwgt  capital-gain  capital-loss  hours-per-week\n",
       "count  45222.000000  4.522200e+04  45222.000000  45222.000000    45222.000000\n",
       "mean      38.547941  1.897347e+05   1101.430344     88.595418       40.938017\n",
       "std       13.217870  1.056392e+05   7506.430084    404.956092       12.007508\n",
       "min       17.000000  1.349200e+04      0.000000      0.000000        1.000000\n",
       "25%       28.000000  1.173882e+05      0.000000      0.000000       40.000000\n",
       "50%       37.000000  1.783160e+05      0.000000      0.000000       40.000000\n",
       "75%       47.000000  2.379260e+05      0.000000      0.000000       45.000000\n",
       "max       90.000000  1.490400e+06  99999.000000   4356.000000       99.000000"
      ]
     },
     "execution_count": 18,
     "metadata": {},
     "output_type": "execute_result"
    }
   ],
   "source": [
    "data_num=data.drop([\"educational-num\",\"income\"],axis=1)\n",
    "data_num.describe()"
   ]
  },
  {
   "cell_type": "markdown",
   "id": "1b1eeec4",
   "metadata": {},
   "source": [
    "# EDA"
   ]
  },
  {
   "cell_type": "markdown",
   "id": "7ba37884",
   "metadata": {},
   "source": [
    "# Univariate Analysis"
   ]
  },
  {
   "cell_type": "code",
   "execution_count": 19,
   "id": "883c9847",
   "metadata": {},
   "outputs": [
    {
     "data": {
      "image/png": "[encoded data removed]",
      "text/plain": [
       "<Figure size 500x500 with 1 Axes>"
      ]
     },
     "metadata": {},
     "output_type": "display_data"
    }
   ],
   "source": [
    "data['age'].hist(figsize=(5,5))\n",
    "plt.show()"
   ]
  },
  {
   "cell_type": "code",
   "execution_count": 20,
   "id": "63a15982",
   "metadata": {},
   "outputs": [
    {
     "data": {
      "image/png": "[encoded data removed]",
      "text/plain": [
       "<Figure size 500x500 with 1 Axes>"
      ]
     },
     "metadata": {},
     "output_type": "display_data"
    }
   ],
   "source": [
    "data['hours-per-week'].hist(figsize=(5,5))\n",
    "plt.show()"
   ]
  },
  {
   "cell_type": "code",
   "execution_count": 21,
   "id": "7326c777",
   "metadata": {},
   "outputs": [
    {
     "data": {
      "image/png": "[encoded data removed]",
      "text/plain": [
       "<Figure size 500x500 with 1 Axes>"
      ]
     },
     "metadata": {},
     "output_type": "display_data"
    }
   ],
   "source": [
    "data['fnlwgt'].hist(figsize=(5,5))\n",
    "plt.show()"
   ]
  },
  {
   "cell_type": "code",
   "execution_count": 22,
   "id": "71b08cd1",
   "metadata": {},
   "outputs": [
    {
     "data": {
      "image/png": "[encoded data removed]",
      "text/plain": [
       "<Figure size 500x500 with 1 Axes>"
      ]
     },
     "metadata": {},
     "output_type": "display_data"
    }
   ],
   "source": [
    "data['capital-gain'].hist(figsize=(5,5))\n",
    "plt.show()"
   ]
  },
  {
   "cell_type": "code",
   "execution_count": 23,
   "id": "46f6c83d",
   "metadata": {},
   "outputs": [
    {
     "data": {
      "image/png": "[encoded data removed]",
      "text/plain": [
       "<Figure size 500x500 with 1 Axes>"
      ]
     },
     "metadata": {},
     "output_type": "display_data"
    }
   ],
   "source": [
    "data['capital-loss'].hist(figsize=(5,5))\n",
    "plt.show()"
   ]
  },
  {
   "cell_type": "markdown",
   "id": "d7ac4498",
   "metadata": {},
   "source": [
    "# Bi Variate Analysis"
   ]
  },
  {
   "cell_type": "markdown",
   "id": "080ed42a",
   "metadata": {},
   "source": [
    "# Relation between capital gain and capital loss"
   ]
  },
  {
   "cell_type": "code",
   "execution_count": 24,
   "id": "bf450e0d",
   "metadata": {},
   "outputs": [
    {
     "data": {
      "image/png": "[encoded data removed]",
      "text/plain": [
       "<Figure size 500x500 with 1 Axes>"
      ]
     },
     "metadata": {},
     "output_type": "display_data"
    }
   ],
   "source": [
    "sns.relplot(x='capital-gain',y='capital-loss',data=data)\n",
    "plt.xlabel=('capital-gain')\n",
    "plt.ylabel=('capital-loss')\n",
    "plt.show()"
   ]
  },
  {
   "cell_type": "markdown",
   "id": "f76df504",
   "metadata": {},
   "source": [
    "# Countplot"
   ]
  },
  {
   "cell_type": "code",
   "execution_count": 25,
   "id": "6042a8b6",
   "metadata": {},
   "outputs": [
    {
     "data": {
      "image/png": "[encoded data removed]",
      "text/plain": [
       "<Figure size 640x480 with 1 Axes>"
      ]
     },
     "metadata": {},
     "output_type": "display_data"
    }
   ],
   "source": [
    "sns.countplot(x=\"fnlwgt\",data=data)\n",
    "plt.show()"
   ]
  },
  {
   "cell_type": "markdown",
   "id": "592c9141",
   "metadata": {},
   "source": [
    "# 5.2.1 AGE"
   ]
  },
  {
   "cell_type": "markdown",
   "id": "ba271a4c",
   "metadata": {},
   "source": [
    "#  Boxplot(rel with income)"
   ]
  },
  {
   "cell_type": "code",
   "execution_count": 26,
   "id": "17fa5411",
   "metadata": {},
   "outputs": [
    {
     "data": {
      "image/png": "[encoded data removed]",
      "text/plain": [
       "<Figure size 1000x1000 with 1 Axes>"
      ]
     },
     "metadata": {},
     "output_type": "display_data"
    }
   ],
   "source": [
    "fig=plt.figure(figsize=(10,10))\n",
    "sns.boxplot(x='income',y='age',data=data)\n",
    "plt.show()"
   ]
  },
  {
   "cell_type": "code",
   "execution_count": 27,
   "id": "c0debe50",
   "metadata": {},
   "outputs": [
    {
     "data": {
      "image/png": "[encoded data removed]",
      "text/plain": [
       "<Figure size 1000x1000 with 1 Axes>"
      ]
     },
     "metadata": {},
     "output_type": "display_data"
    }
   ],
   "source": [
    "fig = plt.figure(figsize=(10,10)) \n",
    "sns.boxplot(x=\"income\", y=\"age\", data=data)\n",
    "plt.show()"
   ]
  },
  {
   "cell_type": "code",
   "execution_count": 28,
   "id": "de239737",
   "metadata": {},
   "outputs": [
    {
     "ename": "SyntaxError",
     "evalue": "invalid syntax (2513943204.py, line 1)",
     "output_type": "error",
     "traceback": [
      "\u001b[1;36m  File \u001b[1;32m\"C:\\Users\\Avita\\AppData\\Local\\Temp\\ipykernel_10724\\2513943204.py\"\u001b[1;36m, line \u001b[1;32m1\u001b[0m\n\u001b[1;33m    data[['income','age']].groupby(['income'],as index=False).mean().sort_values(by='age',ascending=False)\u001b[0m\n\u001b[1;37m                                              ^\u001b[0m\n\u001b[1;31mSyntaxError\u001b[0m\u001b[1;31m:\u001b[0m invalid syntax\n"
     ]
    }
   ],
   "source": [
    "data[['income','age']].groupby(['income'],as index=False).mean().sort_values(by='age',ascending=False)"
   ]
  },
  {
   "cell_type": "code",
   "execution_count": null,
   "id": "d7fc5d27",
   "metadata": {},
   "outputs": [],
   "source": [
    "import random\n",
    "\n",
    "data=data[(np.abs(stats.zscore(data[\"age\"]))<3)]\n",
    "\n",
    "income_1=data[data['income']==1['age']]\n",
    "income_0=data[data['income']==0['age']]\n",
    "\n",
    "income_0=income_0.values.tolist()\n",
    "income_0=random.sample(income_0,100)\n",
    "income_1=income_1.values.tolist()\n",
    "income_1=random.sample(income_1,100)"
   ]
  },
  {
   "cell_type": "code",
   "execution_count": null,
   "id": "d3795b30",
   "metadata": {},
   "outputs": [],
   "source": [
    "from scipy.stats import ttest_ind\n",
    "ttest,pval=ttest_ind(income_1,income_0,eual_var=False)\n",
    "print(\"ttest\",ttest)\n",
    "print(\"p value\",pval)\n",
    "\n",
    "if p_val<0.05:\n",
    "    print(\"reject null hypothesis\")\n",
    "    else\"\n",
    "    print(\"accept null hypothesis\")"
   ]
  },
  {
   "cell_type": "code",
   "execution_count": null,
   "id": "5caa8795",
   "metadata": {},
   "outputs": [],
   "source": [
    "import random\n",
    "\n",
    "data=data[(np.abs(stats.zscore(data[\"age\"]))<3)]\n",
    " \n",
    "income_1=data[data['income']==1['age']]\n",
    "income_1=data[data['income']==0['age']]\n",
    "    \n",
    "income_0= income_0.values.tolist()\n",
    "income_0=random.sample(income_0,100)\n",
    "income_1=income_1.values.tolist()\n",
    "income_1=random.sample(income_1,100)\n",
    "    "
   ]
  },
  {
   "cell_type": "code",
   "execution_count": null,
   "id": "5091ed14",
   "metadata": {},
   "outputs": [],
   "source": [
    "from scipy.stats import ttest_ind\n",
    "ttest,pval=ttest_ind(income_1,income_0,equal_var=False)\n",
    "print(\"ttest\",ttest)\n",
    "print(\"p value\",pval)\n",
    "\n",
    "if p<0.5:\n",
    "    print(\"reject null hyp\")\n",
    "else:\n",
    "    print(\"accept null hyp\")\n",
    "        "
   ]
  },
  {
   "cell_type": "code",
   "execution_count": null,
   "id": "44be3c61",
   "metadata": {},
   "outputs": [],
   "source": [
    "import random\n",
    "\n",
    "data=data[(np.abs(stats.zscore(data[\"age\"]))<3)]\n",
    "\n",
    "income_1=data[data[\"income\"]==1[\"age\"]]\n",
    "income_0=data[data[\"income\"]==0[\"age\"]]\n",
    "\n",
    "income_0=income_0.values.tolist()\n",
    "income_0=random.sample(income_0,100)\n",
    "income_1=income_1.values.tolist()\n",
    "income_1=random.sample(income_1,100)\n",
    "\n",
    "\n",
    "from scipy.stats import ttest_ind\n",
    "ttest,pval=ttest_ind(income_0,income_1,equal_var=False)\n",
    "print(\"ttest\",ttest)\n",
    "print(\"p value\",pval)\n",
    "\n",
    "if p<0.05:\n",
    "    print(\"reject null hypothesis\")\n",
    "    else:\n",
    "        print(\"accept null hypothesis\")"
   ]
  },
  {
   "cell_type": "code",
   "execution_count": null,
   "id": "76bf22f3",
   "metadata": {},
   "outputs": [],
   "source": [
    "import random\n",
    "\n",
    "data=data[(np.abs(stats.zscore(data[\"age\"]))<3)]\n",
    "\n",
    "income_1=data[data[\"income\"]==1[\"age\"]]\n",
    "income_0=data[data]\"income\"]==0[\"age\"]]\n",
    "\n",
    "\n",
    "income_0=income_0.values.tolist()\n",
    "income_0=random.sample(income_0,100)\n",
    "income_1=income_1.values.tolist()\n",
    "income_1=random.sample(income_1,100)"
   ]
  },
  {
   "cell_type": "markdown",
   "id": "3bbdc824",
   "metadata": {},
   "source": [
    "# <!--  -->5.2.2 Hours per week"
   ]
  },
  {
   "cell_type": "code",
   "execution_count": null,
   "id": "f3c32e2c",
   "metadata": {},
   "outputs": [],
   "source": [
    "fig=plt.figure(figsize=(5,5))\n",
    "sns.boxplot(x=\"income\",y=\"hours-per-week\",data=data)\n",
    "plt.show()"
   ]
  },
  {
   "cell_type": "markdown",
   "id": "d2766c3f",
   "metadata": {},
   "source": [
    "# 2.  Description"
   ]
  },
  {
   "cell_type": "markdown",
   "id": "182d2c10",
   "metadata": {},
   "source": [
    "# 3. Testing Hypothesis"
   ]
  },
  {
   "cell_type": "markdown",
   "id": "c9d902a2",
   "metadata": {},
   "source": [
    "# Final weight with Income"
   ]
  },
  {
   "cell_type": "code",
   "execution_count": null,
   "id": "abf624d0",
   "metadata": {},
   "outputs": [],
   "source": [
    "data=data[(np.abs(stats.zscore(data[\"fnlwgt\"]))<3)]\n",
    "\n",
    "income_1=data[data[\"income\"]==1[\"fnlwgt\"]]\n",
    "income_0=data[data[\"income\"]==0[\"fnlwgt\"]]\n",
    "\n",
    "income_0=income_0.values.tolist()\n",
    "income_0=random.sample(income_0,100)\n",
    "income_1=income_1.values.tolist()\n",
    "income_1=random.sample(income_1,100)\n",
    "\n",
    "\n",
    "ttest,pval=ttest_ind(income_0,income_1,equal_var=False)\n",
    "print(\"ttest\",ttest)\n",
    "print(\"p value\",pval)\n",
    "\n",
    "if pval<0.05:\n",
    "    print(\"reject null hypothesis\")\n",
    "    else:\n",
    "        print(\"accept null hypothesis\")\n"
   ]
  },
  {
   "cell_type": "markdown",
   "id": "c93ae19a",
   "metadata": {},
   "source": [
    "# Final Conclusion"
   ]
  },
  {
   "cell_type": "markdown",
   "id": "48c9feb2",
   "metadata": {},
   "source": [
    "# 5.2.3 Capital Gain"
   ]
  },
  {
   "cell_type": "markdown",
   "id": "394bbd2f",
   "metadata": {},
   "source": [
    "# Boxplot (rel of income with Capital Gain)"
   ]
  },
  {
   "cell_type": "code",
   "execution_count": null,
   "id": "374d54e9",
   "metadata": {},
   "outputs": [],
   "source": [
    "fig=plt.figure(figsize=(5,5))\n",
    "sns.boxplot(x=\"income\",y=\"capital-gain\",data=data)\n",
    "plt.show()"
   ]
  },
  {
   "cell_type": "markdown",
   "id": "3aeffeb7",
   "metadata": {},
   "source": [
    "# Description"
   ]
  },
  {
   "cell_type": "markdown",
   "id": "15569ccf",
   "metadata": {},
   "source": [
    "# Hypothesis testing"
   ]
  },
  {
   "cell_type": "code",
   "execution_count": null,
   "id": "90293822",
   "metadata": {},
   "outputs": [],
   "source": [
    "data=data[(np.abs(stats.zscore(data[\"capital-gain\"]))<3)]\n",
    "\n",
    "income_1=data[data[\"income\"]==1[\"capital-gain\"]]\n",
    "income_0=data[data[\"income\"]==0[\"capital-gain\"]]\n",
    "\n",
    "income_0=income_0.values.tolist()\n",
    "income_0=random.sample(income_0,100)\n",
    "income_1=income_1.values.tolist()\n",
    "income_1=random.sample(income_1,100)\n",
    "\n",
    "\n",
    "ttest,pval=ttest_ind(income_0,income_1,equal_var=False)\n",
    "print(\"ttest\",ttest)\n",
    "print(\"p value\",pval)\n",
    "\n",
    "if p<0.05:\n",
    "    print(\"reject null hypothesis\")\n",
    "    else:\n",
    "        print(\"accept null hypothesis\")"
   ]
  },
  {
   "cell_type": "markdown",
   "id": "5d438a31",
   "metadata": {},
   "source": [
    "#  Conclusion"
   ]
  },
  {
   "cell_type": "markdown",
   "id": "d256421f",
   "metadata": {},
   "source": [
    "# 5.2.5 Capital Loss"
   ]
  },
  {
   "cell_type": "markdown",
   "id": "874b693b",
   "metadata": {},
   "source": [
    "#  Boxplot (rel of income with Capital loss)"
   ]
  },
  {
   "cell_type": "code",
   "execution_count": null,
   "id": "ce2e36af",
   "metadata": {},
   "outputs": [],
   "source": [
    "fig=plt.figure(figsize=(5,5))\n",
    "sns.boxplot(x=\"income\",y=\"capital-loss\",data=data)\n",
    "plt.show()"
   ]
  },
  {
   "cell_type": "markdown",
   "id": "503a717d",
   "metadata": {},
   "source": [
    "# Description"
   ]
  },
  {
   "cell_type": "markdown",
   "id": "e6b4e725",
   "metadata": {},
   "source": [
    "# Hypothesis and testing"
   ]
  },
  {
   "cell_type": "code",
   "execution_count": null,
   "id": "69d6a75c",
   "metadata": {},
   "outputs": [],
   "source": [
    "import random\n",
    "\n",
    "data=data[(np.abs(stats.zscore(data[\"capital-loss\"]))<3)]\n",
    "\n",
    "income_1=data(data[\"income\"]==1[\"capital-loss\"])\n",
    "income_0=data(data[\"income\"]==0[\"capital-loss\"])\n",
    "\n",
    "income_0=income_0.values.tolist()\n",
    "income_0=random.sample(income_0,100)\n",
    "income_1=income_1.tolist()\n",
    "income_1=random.sample(income_1,100)\n",
    "\n",
    "\n",
    "ttest,pvalue=ttest_ind(income_0,income_1,equal_var=False)\n",
    "print(\"ttest\",ttest)\n",
    "print(\"p value\",pval)\n",
    "\n",
    "if p <0.05:\n",
    "    print(\"reject null hypothesis\")\n",
    "    else:\n",
    "        print(\"accept null hypothesis\")"
   ]
  },
  {
   "cell_type": "markdown",
   "id": "fe775fa0",
   "metadata": {},
   "source": [
    "# Conclusion"
   ]
  },
  {
   "cell_type": "markdown",
   "id": "51f9795e",
   "metadata": {},
   "source": [
    "# 5.2.6 Workclass"
   ]
  },
  {
   "cell_type": "markdown",
   "id": "0bbbc777",
   "metadata": {},
   "source": [
    "# Boxplot (rel between income with workclass)"
   ]
  },
  {
   "cell_type": "code",
   "execution_count": null,
   "id": "98eeaa28",
   "metadata": {},
   "outputs": [],
   "source": [
    "fig=plt.figure(figsize=(5,5))\n",
    "sns.boxplot(x=\"workclass\",y=\"income\",data=data)\n",
    "plt.show()"
   ]
  },
  {
   "cell_type": "code",
   "execution_count": null,
   "id": "5cf55160",
   "metadata": {},
   "outputs": [],
   "source": [
    "plt.figure(figsize=(5,5))\n",
    "total=float(len(data[\"income\"]))\n",
    "\n",
    "ax=sns.countplot(x=\"workclass\",hue=\"income\",data=data)\n",
    "for p in ax.patches:\n",
    "    height=p.get_height()\n",
    "    ax.text(p.getx().p.get_width()/2.,\n",
    "            height+3,\n",
    "            '{:1.2f}'.format((height/total)*100)\n",
    "            ha=\"centre\")\n",
    "            \n",
    "plt.show()\n",
    "    "
   ]
  },
  {
   "cell_type": "code",
   "execution_count": null,
   "id": "1fdbe521",
   "metadata": {},
   "outputs": [],
   "source": [
    "plt.figure(figsize=(12,10))\n",
    "total = float(len(data[\"income\"]) )\n",
    "\n",
    "ax = sns.countplot(x=\"workclass\", hue=\"income\", data=data)\n",
    "for p in ax.patches:\n",
    "    height = p.get_height()\n",
    "    ax.text(p.getx()+p.get_width()/2.,\n",
    "            height + 3,\n",
    "            '{:1.2f}'.format((height/total)*100),\n",
    "            ha=\"center\") \n",
    "plt.show()"
   ]
  },
  {
   "cell_type": "markdown",
   "id": "b1622e13",
   "metadata": {},
   "source": [
    "# Chi Square test"
   ]
  },
  {
   "cell_type": "markdown",
   "id": "eb3becf5",
   "metadata": {},
   "source": [
    "# Contingency table"
   ]
  },
  {
   "cell_type": "code",
   "execution_count": null,
   "id": "41af5b5c",
   "metadata": {},
   "outputs": [],
   "source": [
    "c_t= pd.crosstab(data['workclass'].sample(frac=0.02,replace=True,random_state=1,data['income'].sample(frac=0.02,replace=True,random_state=1,Margin=False))\n",
    "                 c_t"
   ]
  },
  {
   "cell_type": "code",
   "execution_count": null,
   "id": "615e7718",
   "metadata": {},
   "outputs": [],
   "source": [
    "from scipy.stats import chi2_contingency\n",
    "from scipy.stats import chi2\n",
    "\n",
    "stat,p,dof,expected=chi2_contingency(c_t)\n",
    "print('dof=%d'%dof)\n",
    "print('p_value',p)\n",
    "print(expected)\n",
    "\n",
    "# interpret test statistic\n",
    "prob=0.95\n",
    "critical= chi2.ppf(prob,dof)\n",
    "print('probability=%.3f,critical=%.3f,stat=%.3f'%(prob,critical,stat))\n",
    "if abs(stat)>=critical:\n",
    "    print('Dependent(reject H0)')\n",
    "    else:\n",
    "        print('Independent(fail to reject H0)')\n"
   ]
  },
  {
   "cell_type": "markdown",
   "id": "365d0ea3",
   "metadata": {},
   "source": [
    "# Education"
   ]
  },
  {
   "cell_type": "markdown",
   "id": "9aaf73c9",
   "metadata": {},
   "source": [
    "# Relation plot with Income"
   ]
  },
  {
   "cell_type": "code",
   "execution_count": null,
   "id": "86472b35",
   "metadata": {},
   "outputs": [],
   "source": [
    "figure=plt.figure(figsize(5,5))\n",
    "total=float(len(data['income']))\n",
    "\n",
    "ax=sns.countplot(x='education',y='income',data=data)\n",
    "for p in ax.patches:\n",
    "    height=p.get_height()\n",
    "    ax.text (p.get_x()+p.get_width()/2.,\n",
    "    height+3,\n",
    "    '{:1.2f}'.format((height/total)*100),\n",
    "    ha=\"centre\")\n",
    "    \n",
    "    plt.show()"
   ]
  },
  {
   "cell_type": "code",
   "execution_count": null,
   "id": "c2fe1083",
   "metadata": {},
   "outputs": [],
   "source": [
    "plt.figure(figsize=(10,5))\n",
    "total = float(len(data[\"income\"]) )\n",
    "\n",
    "ax = sns.countplot(x=\"education\", hue=\"income\", data=data)\n",
    "for p in ax.patches:\n",
    "    height = p.get_height()\n",
    "    ax.text(p.get_x()+p.get_width()/2.,\n",
    "            height + 3,\n",
    "            '{:1.2f}'.format((height/total)*100),\n",
    "            ha=\"center\") \n",
    "plt.show()"
   ]
  },
  {
   "cell_type": "markdown",
   "id": "57371024",
   "metadata": {},
   "source": [
    "# Chi square testing"
   ]
  },
  {
   "cell_type": "code",
   "execution_count": null,
   "id": "dfab3b25",
   "metadata": {},
   "outputs": [],
   "source": [
    "c_t=pd.crosstab(data['income'].sample(frac=0.02,replace=True,random_state=1,data['education'].sample(frac=0.02,replace=True,random_state=1,Margin=False))\n",
    "\n",
    "c_t\n",
    "                "
   ]
  },
  {
   "cell_type": "code",
   "execution_count": null,
   "id": "f8d9b29f",
   "metadata": {},
   "outputs": [],
   "source": [
    "from scipy.stats import chi2_contingency\n",
    "from scipy.stats import chi2\n",
    "\n",
    "stats,p,dof,expected=chi2_contingency(c_t)\n",
    "print('dof %d'%d)\n",
    "print('p_value',p)\n",
    "print(expected)\n",
    "\n",
    "#interpret test statistic\n",
    "p=0.95\n",
    "critical=stat,prob(chi2_contingency)\n",
    "print('probability=%.3f,critical=%.3f,stat=%.3f'% prob,critical,stat))\n",
    "if abs(stat)>=critical:\n",
    "    print('dependent(reject H0)')\n",
    "    else:\n",
    "        print('Independent(fail to reject H0)')"
   ]
  },
  {
   "cell_type": "markdown",
   "id": "6064546c",
   "metadata": {},
   "source": [
    "# Final Conclusion"
   ]
  },
  {
   "cell_type": "markdown",
   "id": "5df2dd27",
   "metadata": {},
   "source": [
    "# Marital Status"
   ]
  },
  {
   "cell_type": "markdown",
   "id": "b658217c",
   "metadata": {},
   "source": [
    "# Rel plot of Income with Marital Status"
   ]
  },
  {
   "cell_type": "code",
   "execution_count": null,
   "id": "a774140d",
   "metadata": {},
   "outputs": [],
   "source": [
    "figure=plt.figure(figsize(5,5))\n",
    "total=float(len(data['income'])\n",
    "            \n",
    "ax=sns.countplot(x='marital-status',data=data)\n",
    "  for p in ax.patches:\n",
    "            height=p.get_height()\n",
    "            ax.text(p.get_x)+p.get_width()/2.,\n",
    "            height+3,\n",
    "            '{:1.2f}'.format((height/total)*100),\n",
    "            ha=\"centre\"\n",
    "            \n",
    "plt.show()"
   ]
  },
  {
   "cell_type": "markdown",
   "id": "ccd82310",
   "metadata": {},
   "source": [
    "# Chi square testing and Hypothesis\n",
    "# contingency Table"
   ]
  },
  {
   "cell_type": "code",
   "execution_count": null,
   "id": "314b026a",
   "metadata": {},
   "outputs": [],
   "source": [
    "c_t=pd.crosstab(data['income'].sample(frac=0.02,replace=True,random_state=1),data['marital-status'].sample(frac=0.02,replace=True,random_state=1,Margin=False))\n",
    "c_t"
   ]
  },
  {
   "cell_type": "code",
   "execution_count": null,
   "id": "fd157f11",
   "metadata": {},
   "outputs": [],
   "source": [
    "from scipy.stats import chi2_contingency\n",
    "from scipy.stats import chi2\n",
    "\n",
    "stat,p,dof,expected=chi2_contingency(c_t)\n",
    "print('dof%d'%dof)\n",
    "print('p_value',p)\n",
    "print('expected')\n",
    "\n",
    "#interpret test statistic\n",
    "p=0.95\n",
    "critical=chi2.ppf(prob,dof)\n",
    "print('probability =%:.3f'prob,'critical =%:.3f' critical,'stat= %:.3f' stat % prob,critical,stat))\n",
    "if abs(stat)>= critical:\n",
    "    print(Dependent('reject H0'))\n",
    "    else:\n",
    "        print(Independent'Fail to reject H0)"
   ]
  },
  {
   "cell_type": "markdown",
   "id": "0e260105",
   "metadata": {},
   "source": [
    "# Occupation"
   ]
  },
  {
   "cell_type": "markdown",
   "id": "3724395a",
   "metadata": {},
   "source": [
    "# Rel plot of occupation with income"
   ]
  },
  {
   "cell_type": "code",
   "execution_count": null,
   "id": "b6d24498",
   "metadata": {},
   "outputs": [],
   "source": [
    "figure=plt.figure(figsize=(5,5))\n",
    "total=float(len(data['income']))\n",
    "\n",
    "ax=sns.countplot(x='occupation',data=data)\n",
    "for p in ax.patches:\n",
    "    height= p.get_height()\n",
    "    ax.text(p.get_x()+p.get_width()/2.,\n",
    "    '{:1.2f}'.format(height/total)*100(),\n",
    "    height+3,\n",
    "    ha=\"centre\"\n",
    "    \n",
    "plt.show()    "
   ]
  },
  {
   "cell_type": "markdown",
   "id": "0258a0aa",
   "metadata": {},
   "source": [
    "# description"
   ]
  },
  {
   "cell_type": "markdown",
   "id": "e2855148",
   "metadata": {},
   "source": [
    "# Chi2 Test and Hypothesis testing"
   ]
  },
  {
   "cell_type": "code",
   "execution_count": null,
   "id": "86f1af20",
   "metadata": {},
   "outputs": [],
   "source": [
    "c_t= pd.crosstab(data['income'].sample(frac=0.02,replace=True,random_state=1,data['occupation'.sample(frac=0.02,replace=True,random_state=1,Margin=False))\n",
    " c_t                                                                                 \n",
    "                    "
   ]
  },
  {
   "cell_type": "code",
   "execution_count": null,
   "id": "9e386634",
   "metadata": {},
   "outputs": [],
   "source": [
    "from scipy.stats import chi2_contingency\n",
    "from scipy.stats import chi2\n",
    "stats,p,dof,expected=chi2_contingency(c_t)\n",
    "print('dof %d'%d)\n",
    "print('p_value',p)\n",
    "print ('expected')\n",
    "\n",
    "#interpret test statistic\n",
    "p=0.95\n",
    "critical=chi2.ppf(prob,dof)\n",
    "print('probability=%.3f','critical=%.3f','stat=%.3f'%(prob,critical,stat))\n",
    "if abs(stats)>= critical:\n",
    "    print(Dependent('reject H0'))\n",
    "    else:\n",
    "        print(Independent('fail to reject H0 ))"
   ]
  },
  {
   "cell_type": "markdown",
   "id": "fc971316",
   "metadata": {},
   "source": [
    "# Conclusion"
   ]
  },
  {
   "cell_type": "markdown",
   "id": "88b1528c",
   "metadata": {},
   "source": [
    "# Race"
   ]
  },
  {
   "cell_type": "markdown",
   "id": "624f5abf",
   "metadata": {},
   "source": [
    "# Rel plot with Income"
   ]
  },
  {
   "cell_type": "code",
   "execution_count": null,
   "id": "c3238a23",
   "metadata": {},
   "outputs": [],
   "source": [
    "figure=plt.figure(figsize=(5,5))\n",
    "total=float(len(data['income']))\n",
    "\n",
    "ax=sns.countplot(x='race',hue='income',data=data)\n",
    "for p in ax.patches:\n",
    "    height=p.get_height(),\n",
    "    ax.text(p.get_x()+(p.get_width()/2.,\n",
    "                       height+3,\n",
    "                       '{:1.2f}'.format((height/total)*100),\n",
    "                       ha=\"centre\")\n",
    "        \n",
    "            \n",
    "            \n",
    "plt.show()"
   ]
  },
  {
   "cell_type": "markdown",
   "id": "5513f1c0",
   "metadata": {},
   "source": [
    "# Description"
   ]
  },
  {
   "cell_type": "markdown",
   "id": "9eaa8a21",
   "metadata": {},
   "source": [
    "# Chi2 test and Hypothesis"
   ]
  },
  {
   "cell_type": "code",
   "execution_count": null,
   "id": "b302f734",
   "metadata": {},
   "outputs": [],
   "source": [
    "c_t=pd.crosstab(data['income'].sample(frac=0.02,replace=True,random_state=1,data['race'].sample(frac=0.02,replace=True,random_state=1,Margin=false))\n",
    " c_t               \n",
    "        "
   ]
  },
  {
   "cell_type": "code",
   "execution_count": null,
   "id": "c1cf58dc",
   "metadata": {},
   "outputs": [],
   "source": [
    "stats,p,dof,prob=chi2_contingency\n",
    "print('dof =%d'%dof)\n",
    "print('p_value',p)\n",
    "print('expected')\n",
    "\n",
    "#interpret test statistic\n",
    "p=0.95\n",
    "critical =chi2.ppf(prob,dof)\n",
    "print('probability=%.3f,critical=%.3f,stat=%.3f' %(prob,critical,stat))\n",
    "if abs(stat)>= critical:\n",
    "    print(Dependent('reject H0))\n",
    "                    else:\n",
    "                    print(Independent('fail to reject H0'))"
   ]
  },
  {
   "cell_type": "markdown",
   "id": "2b807ba6",
   "metadata": {},
   "source": [
    "# Final conclusion"
   ]
  },
  {
   "cell_type": "markdown",
   "id": "2e421b8f",
   "metadata": {},
   "source": [
    "# Gender"
   ]
  },
  {
   "cell_type": "markdown",
   "id": "1905e7fb",
   "metadata": {},
   "source": [
    "# Rel plot of gender with income"
   ]
  },
  {
   "cell_type": "code",
   "execution_count": null,
   "id": "b6cb7a99",
   "metadata": {},
   "outputs": [],
   "source": [
    "figure=plt.figure(figsize=(5,5))\n",
    "total=float(len(data['income']))\n",
    "\n",
    "ax=sns.countplot(x='gender',hue='income',data=data)\n",
    "for p in ax.patches:\n",
    "    height=p.get_height(),\n",
    "    ax.text(p.get_x()+p.get_width/2.,\n",
    "    height+3,\n",
    "    '{:.2f}'.format((height/total)*100),\n",
    "    ha=\"centre\")\n",
    "    \n",
    "    plt.show()"
   ]
  },
  {
   "cell_type": "markdown",
   "id": "11462667",
   "metadata": {},
   "source": [
    "# Description"
   ]
  },
  {
   "cell_type": "markdown",
   "id": "39963ca3",
   "metadata": {},
   "source": [
    "# Chi2 test and Hypothesis"
   ]
  },
  {
   "cell_type": "code",
   "execution_count": null,
   "id": "a7160f4f",
   "metadata": {},
   "outputs": [],
   "source": [
    "stat,p,dof,expected=chi2_contingency\n",
    "print('dof=%d'%dof)\n",
    "print('p_value',p)\n",
    "print('expected')\n",
    "\n",
    "#interpret test statistic\n",
    "p=0.95\n",
    "critical= chi2.ppf(prob,dof)\n",
    "print('probability=%.3f','critical=%.3f','stat=%.3f' % (prob,critical,stat))\n",
    "if abs(stat)>= critical:\n",
    "    print(Dependent('reject H0'))\n",
    "    else:\n",
    "        print(independent('fail to reject H0'))"
   ]
  },
  {
   "cell_type": "markdown",
   "id": "d299c37f",
   "metadata": {},
   "source": [
    "# Final Conclusion"
   ]
  },
  {
   "cell_type": "markdown",
   "id": "2243fa3e",
   "metadata": {},
   "source": [
    "# Native - country"
   ]
  },
  {
   "cell_type": "markdown",
   "id": "fa7a060f",
   "metadata": {},
   "source": [
    "# Rel plot of native country with income"
   ]
  },
  {
   "cell_type": "code",
   "execution_count": null,
   "id": "b25b64ff",
   "metadata": {},
   "outputs": [],
   "source": [
    "plt.figure(figsize=(10,10))\n",
    "total=float(len(data))\n",
    "\n",
    "ax=sns.countplot(x='native-country',hue='income',data=data)\n",
    "for p in ax.patches:\n",
    "    height=p.get_height()\n",
    "    ax.text(p.get_x()+p.get_width)/2.,\n",
    "    height+3,\n",
    "    '{:.2f}'.format((height/total)*100),\n",
    "    ha=\"centre\")\n",
    "    \n",
    "plt.show()"
   ]
  },
  {
   "cell_type": "markdown",
   "id": "35caed63",
   "metadata": {},
   "source": [
    "# Chi 2 testing and Hypothesis"
   ]
  },
  {
   "cell_type": "code",
   "execution_count": null,
   "id": "094b0109",
   "metadata": {},
   "outputs": [],
   "source": [
    "c_t=pd.crosstab(data['native-country'].sample(frac=0.02,replace=True,random_state=1),data['income'].sample(frac=0.02,replace=True,random_state=1,margin+False))\n",
    "c_t"
   ]
  },
  {
   "cell_type": "code",
   "execution_count": null,
   "id": "f71fe7ea",
   "metadata": {},
   "outputs": [],
   "source": [
    "stat,p,dof,expected=chi2_contingency\n",
    "print('dof=%d'% dof)\n",
    "print('p_value',p)\n",
    "print('expected')\n",
    "\n",
    "#interpret test statistic\n",
    "p=0.95\n",
    "critical=chi2.ppf(prob,dof)\n",
    "print('probability=%.3f','critical=%.3f','stat=%.3f'%(prob,critical,stat)\n",
    " if abs(stat)>= critical:\n",
    "    print(Dependent('reject H0'))\n",
    "      else:\n",
    "      print(independent('fail to reject H0'))"
   ]
  },
  {
   "cell_type": "markdown",
   "id": "88a3409d",
   "metadata": {},
   "source": [
    "# Final Conclusion"
   ]
  },
  {
   "cell_type": "markdown",
   "id": "68855253",
   "metadata": {},
   "source": [
    "# Multi - Variate"
   ]
  },
  {
   "cell_type": "code",
   "execution_count": null,
   "id": "52675f3c",
   "metadata": {},
   "outputs": [],
   "source": [
    "plt.figure(figsize=(10,10))\n",
    "sns.heatmap(data_num.corr(),annot=True,linewidths=.5,cmap=\"Blues\")\n",
    "plt.title('Heatmap showing Correlation of Multi Variate Data')\n",
    "plt.show()"
   ]
  },
  {
   "cell_type": "code",
   "execution_count": null,
   "id": "c6aed069",
   "metadata": {},
   "outputs": [],
   "source": [
    "plt.figure(figsize=(15,10))\n",
    "sns.boxplot(x='income',y='hours-per-week',hue='gender',data=data)\n",
    "plt.show()"
   ]
  },
  {
   "cell_type": "code",
   "execution_count": null,
   "id": "41bb0838",
   "metadata": {},
   "outputs": [],
   "source": [
    "plt.figure(figsize=(15,10))\n",
    "sns.boxplot(x='income',y='age',hue='gender',data=data)\n",
    "plt.show()"
   ]
  },
  {
   "cell_type": "markdown",
   "id": "f5feb9e3",
   "metadata": {},
   "source": [
    "# Other Multi Variate Analysis"
   ]
  },
  {
   "cell_type": "code",
   "execution_count": null,
   "id": "b9953f7f",
   "metadata": {},
   "outputs": [],
   "source": [
    "fig = plt.figure(figsize=(15,10))\n",
    "\n",
    "ax1 = fig.add_subplot(2,1,1)\n",
    "sns.stripplot(x='age', y= 'capital-gain',data=data,jitter=0.2,ax=ax1)\n",
    "ax1.set_xlabel('Age',fontsize=12)\n",
    "ax1.set_ylabel('Capital Gain',fontsize=12)\n",
    "\n",
    "ax2 = fig.add_subplot(2,1,2)\n",
    "sns.stripplot(x='age',y='capital-gain',data=data,jitter=0.2,ax=ax2)\n",
    "ax2.set_xlabel('Age',fontsize=12)\n",
    "ax2.set_ylabel('Capital Gain',fontsize=12)\n",
    "ax2.set_ylim(0,40000)\n",
    "\n",
    "plt.tight_layout()\n",
    "plt.show()\n",
    "\n"
   ]
  },
  {
   "cell_type": "code",
   "execution_count": null,
   "id": "5ea35bad",
   "metadata": {},
   "outputs": [],
   "source": [
    "fig=plt.figure(figsize=(15,10))\n",
    "\n",
    "ax1=fig.add_subplot(2,1,1)\n",
    "sns.stripplot(x='age',y='capital-gain',data=data,jitter=0.2,ax=ax1)\n",
    "ax1.set_xlabel('Age',fontsize=12)\n",
    "ax1.set_ylabel('Capital Gain',fontsize=12)\n",
    "\n",
    "ax2= fig.add_subplot(2,1,2)\n",
    "sns.stripplot(x='age',y= 'capital-gain',data=data,jitter=0.2,ax=ax2)\n",
    "ax2.set_xlabel('Age',fontsize=12)\n",
    "ax2.set_ylabel('Capital Gain',fontsize=12)\n",
    "ax2.set_ylim(0,40000)\n",
    "\n",
    "plt.tight_layout()\n",
    "plt.show()"
   ]
  },
  {
   "cell_type": "markdown",
   "id": "973b35fb",
   "metadata": {},
   "source": [
    "# Summary statistics"
   ]
  },
  {
   "cell_type": "code",
   "execution_count": null,
   "id": "8237c60d",
   "metadata": {},
   "outputs": [],
   "source": [
    "data[\"capital_change\"] =data[\"captial-gain\"]- [\"capital-loss\"]\n",
    "data[\"capital_change\"].describe()"
   ]
  },
  {
   "cell_type": "markdown",
   "id": "b4dbfe90",
   "metadata": {},
   "source": [
    "# Distribution"
   ]
  },
  {
   "cell_type": "code",
   "execution_count": null,
   "id": "a4628084",
   "metadata": {
    "scrolled": true
   },
   "outputs": [],
   "source": [
    "data[\"capital_change\"].hist(figsize=(10,5))\n",
    "plt.show()"
   ]
  },
  {
   "cell_type": "markdown",
   "id": "1c0e794c",
   "metadata": {},
   "source": [
    "# Description"
   ]
  },
  {
   "cell_type": "markdown",
   "id": "e8df0315",
   "metadata": {},
   "source": [
    "# Hypothesis testing income and capital change"
   ]
  },
  {
   "cell_type": "code",
   "execution_count": null,
   "id": "fa946f00",
   "metadata": {},
   "outputs": [],
   "source": [
    "# null - there is no difference between income and capital change\n",
    "#alternate -there is difference in income and capital change"
   ]
  },
  {
   "cell_type": "code",
   "execution_count": null,
   "id": "b22aa5b8",
   "metadata": {},
   "outputs": [],
   "source": [
    "data= data[(np.abs(stats.zscore)(data['age']))<3]\n",
    "\n",
    "income_0=data[data['income']==0 [data['capital_change']]\n",
    "income_1=data[data['income']==1[data]['capital_change']]\n",
    "              \n",
    "income_0=income_0.values.tolist()\n",
    "income_0=random.sample(income_0,100)\n",
    "income_1=income_1.values.tolist()\n",
    "income_1=random.sample(income_1,100)\n",
    "    \n",
    "ttest,pval=ttest_ind(income_1,income_0,equal_var=0)\n",
    "print('ttest',ttest) \n",
    "print('p_val',p)\n",
    "              \n",
    "if p<0.05:\n",
    "              print('we reject null hypothesis')\n",
    "              else:\n",
    "              print('we accept null hypothesis')"
   ]
  },
  {
   "cell_type": "markdown",
   "id": "c4938a67",
   "metadata": {},
   "source": [
    "# Final Conclusion"
   ]
  },
  {
   "cell_type": "markdown",
   "id": "e9b8720f",
   "metadata": {},
   "source": [
    "# Complete conclusion of the EDA"
   ]
  },
  {
   "cell_type": "markdown",
   "id": "3b73bbf7",
   "metadata": {},
   "source": [
    "# Selecting features"
   ]
  },
  {
   "cell_type": "code",
   "execution_count": null,
   "id": "8307ec2b",
   "metadata": {},
   "outputs": [],
   "source": [
    "data[\"gender\"]=data[\"gender\"].map({\"Male\":0}{\"Female\":1})\n",
    "                                  \n",
    "data[\"marital-status\"] =data[\"marital-status\"].replace([\"Never-married\",\"Divorced\",\"Seperated\",\"Widowed\"],'Single')\n",
    "data[\"marital-status\"] =data[\"marital-status\"].replace([\"Married-civ-spouse\",\"Married-spouse-absent\",\"Married-AF-spouse\"],'Married')\n",
    "data[\"marital-status\"] =data[\"marital-status\"].map({\"Married\":1,\"Single\":0}) \n",
    "data[\"marital-status\"]=data[\"marital-status\"].astype(int)\n",
    "\n",
    "data.drop(labels=[\"workclass\",\"education\",\"occupation\",\"relationship\",\"race\",\"native-country\",\"capital-change\"],axis=1,Inplace=True)"
   ]
  },
  {
   "cell_type": "code",
   "execution_count": null,
   "id": "f4f436ec",
   "metadata": {},
   "outputs": [],
   "source": [
    "data.head()"
   ]
  },
  {
   "cell_type": "markdown",
   "id": "b6a80d84",
   "metadata": {},
   "source": [
    "# Model Building"
   ]
  },
  {
   "cell_type": "code",
   "execution_count": 31,
   "id": "11266625",
   "metadata": {},
   "outputs": [
    {
     "ename": "ModuleNotFoundError",
     "evalue": "No module named 'sklearn.neighbours'",
     "output_type": "error",
     "traceback": [
      "\u001b[1;31m---------------------------------------------------------------------------\u001b[0m",
      "\u001b[1;31mModuleNotFoundError\u001b[0m                       Traceback (most recent call last)",
      "\u001b[1;32m~\\AppData\\Local\\Temp\\ipykernel_10724\\438791155.py\u001b[0m in \u001b[0;36m<module>\u001b[1;34m\u001b[0m\n\u001b[0;32m      1\u001b[0m \u001b[1;32mfrom\u001b[0m \u001b[0msklearn\u001b[0m\u001b[1;33m.\u001b[0m\u001b[0mlinear_model\u001b[0m \u001b[1;32mimport\u001b[0m \u001b[0mLinearRegression\u001b[0m\u001b[1;33m\u001b[0m\u001b[1;33m\u001b[0m\u001b[0m\n\u001b[1;32m----> 2\u001b[1;33m \u001b[1;32mfrom\u001b[0m \u001b[0msklearn\u001b[0m\u001b[1;33m.\u001b[0m\u001b[0mneighbours\u001b[0m \u001b[1;32mimport\u001b[0m \u001b[0mKNeighboursClassifier\u001b[0m\u001b[1;33m\u001b[0m\u001b[1;33m\u001b[0m\u001b[0m\n\u001b[0m\u001b[0;32m      3\u001b[0m \u001b[1;32mfrom\u001b[0m \u001b[0msklearn\u001b[0m\u001b[1;33m.\u001b[0m\u001b[0mtree\u001b[0m \u001b[1;32mimport\u001b[0m \u001b[0mDecisionTreeClassifier\u001b[0m\u001b[1;33m\u001b[0m\u001b[1;33m\u001b[0m\u001b[0m\n\u001b[0;32m      4\u001b[0m \u001b[1;32mfrom\u001b[0m \u001b[0msklearn\u001b[0m\u001b[1;33m.\u001b[0m\u001b[0mnaives_bayes\u001b[0m \u001b[1;32mimport\u001b[0m \u001b[0mGaussianNB\u001b[0m\u001b[1;33m\u001b[0m\u001b[1;33m\u001b[0m\u001b[0m\n\u001b[0;32m      5\u001b[0m \u001b[1;32mfrom\u001b[0m \u001b[0msklearn\u001b[0m\u001b[1;33m.\u001b[0m\u001b[0mensemble\u001b[0m \u001b[1;32mimport\u001b[0m \u001b[0mRandomForestClassifier\u001b[0m\u001b[1;33m\u001b[0m\u001b[1;33m\u001b[0m\u001b[0m\n",
      "\u001b[1;31mModuleNotFoundError\u001b[0m: No module named 'sklearn.neighbours'"
     ]
    }
   ],
   "source": [
    "from sklearn.linear_model import LinearRegression\n",
    "from sklearn.neighbours import KNeighboursClassifier\n",
    "from sklearn.tree import DecisionTreeClassifier\n",
    "from sklearn.naives_bayes import GaussianNB\n",
    "from sklearn.ensemble import RandomForestClassifier\n",
    "\n",
    "from sklearn.model_selection import GridSearchCV, cross_val_score , StratifiedKFold, learning_curve, train_test_split,KFold\n",
    "from sklearn.metrics import classification_report\n",
    "from sklearn.metrics import accuracy_score\n",
    "from sklearn.metrics import confusion_matrix"
   ]
  },
  {
   "cell_type": "code",
   "execution_count": null,
   "id": "6a022c04",
   "metadata": {},
   "outputs": [],
   "source": [
    "array = data.values\n",
    "array"
   ]
  },
  {
   "cell_type": "code",
   "execution_count": 32,
   "id": "d233a065",
   "metadata": {},
   "outputs": [
    {
     "ename": "NameError",
     "evalue": "name 'array' is not defined",
     "output_type": "error",
     "traceback": [
      "\u001b[1;31m---------------------------------------------------------------------------\u001b[0m",
      "\u001b[1;31mNameError\u001b[0m                                 Traceback (most recent call last)",
      "\u001b[1;32m~\\AppData\\Local\\Temp\\ipykernel_10724\\8864586.py\u001b[0m in \u001b[0;36m<module>\u001b[1;34m\u001b[0m\n\u001b[1;32m----> 1\u001b[1;33m \u001b[0mX\u001b[0m \u001b[1;33m=\u001b[0m \u001b[0marray\u001b[0m\u001b[1;33m[\u001b[0m\u001b[1;33m:\u001b[0m\u001b[1;33m,\u001b[0m\u001b[1;36m0\u001b[0m\u001b[1;33m:\u001b[0m\u001b[1;36m8\u001b[0m\u001b[1;33m]\u001b[0m\u001b[1;33m\u001b[0m\u001b[1;33m\u001b[0m\u001b[0m\n\u001b[0m\u001b[0;32m      2\u001b[0m \u001b[0mY\u001b[0m \u001b[1;33m=\u001b[0m \u001b[0marray\u001b[0m\u001b[1;33m[\u001b[0m\u001b[1;33m:\u001b[0m\u001b[1;33m,\u001b[0m\u001b[1;36m8\u001b[0m\u001b[1;33m]\u001b[0m\u001b[1;33m\u001b[0m\u001b[1;33m\u001b[0m\u001b[0m\n\u001b[0;32m      3\u001b[0m \u001b[0mprint\u001b[0m\u001b[1;33m(\u001b[0m\u001b[1;34m'Split data: X'\u001b[0m\u001b[1;33m)\u001b[0m\u001b[1;33m\u001b[0m\u001b[1;33m\u001b[0m\u001b[0m\n\u001b[0;32m      4\u001b[0m \u001b[0mprint\u001b[0m\u001b[1;33m(\u001b[0m\u001b[0mX\u001b[0m\u001b[1;33m)\u001b[0m\u001b[1;33m\u001b[0m\u001b[1;33m\u001b[0m\u001b[0m\n\u001b[0;32m      5\u001b[0m \u001b[0mprint\u001b[0m\u001b[1;33m(\u001b[0m\u001b[1;34m'Split data: Y'\u001b[0m\u001b[1;33m)\u001b[0m\u001b[1;33m\u001b[0m\u001b[1;33m\u001b[0m\u001b[0m\n",
      "\u001b[1;31mNameError\u001b[0m: name 'array' is not defined"
     ]
    }
   ],
   "source": [
    "X = array[:,0:8]\n",
    "Y = array[:,8]\n",
    "print('Split data: X')\n",
    "print(X)\n",
    "print('Split data: Y')\n",
    "print(Y)"
   ]
  },
  {
   "cell_type": "code",
   "execution_count": 33,
   "id": "eb1ec8f1",
   "metadata": {},
   "outputs": [
    {
     "ename": "SyntaxError",
     "evalue": "cannot assign to operator (3564878115.py, line 5)",
     "output_type": "error",
     "traceback": [
      "\u001b[1;36m  File \u001b[1;32m\"C:\\Users\\Avita\\AppData\\Local\\Temp\\ipykernel_10724\\3564878115.py\"\u001b[1;36m, line \u001b[1;32m5\u001b[0m\n\u001b[1;33m    X_test,X_validation,Y-test,Y-validation= train_test_split()(X,Y,test_size=validation_test)\u001b[0m\n\u001b[1;37m                        ^\u001b[0m\n\u001b[1;31mSyntaxError\u001b[0m\u001b[1;31m:\u001b[0m cannot assign to operator\n"
     ]
    }
   ],
   "source": [
    "validation_size = 0.20\n",
    "seed = 7\n",
    "num_folds = 10\n",
    "scoring = 'accuracy'\n",
    "X_test,X_validation,Y-test,Y-validation= train_test_split()(X,Y,test_size=validation_test)\n",
    "\n",
    "#params for random forest\n",
    "num_trees= 100\n",
    "max_features = 3\n",
    "\n",
    "# check Algorithms\n",
    "models=[]\n",
    "model.append(('LR',LinearRegression()))\n",
    "model.append(('KNN',KneighboursClassifier()))\n",
    "model.append(('CART',DecisionTreeClassifier()))\n",
    "model.append(('NB',GaussianNB()))\n",
    "model.append(('RF',RandomForestClassifier(n_estimators=num_tree,max_features=max_features,random_state=seed)))\n",
    "\n",
    "models"
   ]
  },
  {
   "cell_type": "code",
   "execution_count": 34,
   "id": "18eb9896",
   "metadata": {},
   "outputs": [
    {
     "ename": "NameError",
     "evalue": "name 'models' is not defined",
     "output_type": "error",
     "traceback": [
      "\u001b[1;31m---------------------------------------------------------------------------\u001b[0m",
      "\u001b[1;31mNameError\u001b[0m                                 Traceback (most recent call last)",
      "\u001b[1;32m~\\AppData\\Local\\Temp\\ipykernel_10724\\1925693850.py\u001b[0m in \u001b[0;36m<module>\u001b[1;34m\u001b[0m\n\u001b[0;32m      2\u001b[0m \u001b[0mresults\u001b[0m \u001b[1;33m=\u001b[0m \u001b[1;33m[\u001b[0m\u001b[1;33m]\u001b[0m\u001b[1;33m\u001b[0m\u001b[1;33m\u001b[0m\u001b[0m\n\u001b[0;32m      3\u001b[0m \u001b[0mnames\u001b[0m \u001b[1;33m=\u001b[0m\u001b[1;33m[\u001b[0m\u001b[1;33m]\u001b[0m\u001b[1;33m\u001b[0m\u001b[1;33m\u001b[0m\u001b[0m\n\u001b[1;32m----> 4\u001b[1;33m \u001b[1;32mfor\u001b[0m \u001b[0mname\u001b[0m\u001b[1;33m,\u001b[0m\u001b[0mmodel\u001b[0m \u001b[1;32min\u001b[0m \u001b[0mmodels\u001b[0m\u001b[1;33m:\u001b[0m\u001b[1;33m\u001b[0m\u001b[1;33m\u001b[0m\u001b[0m\n\u001b[0m\u001b[0;32m      5\u001b[0m     \u001b[0mkfold\u001b[0m\u001b[1;33m=\u001b[0m \u001b[0mKFold\u001b[0m\u001b[1;33m(\u001b[0m\u001b[0mn_splits\u001b[0m\u001b[1;33m=\u001b[0m\u001b[1;36m10\u001b[0m\u001b[1;33m)\u001b[0m\u001b[1;33m\u001b[0m\u001b[1;33m\u001b[0m\u001b[0m\n\u001b[0;32m      6\u001b[0m     \u001b[0mcv_results\u001b[0m\u001b[1;33m=\u001b[0m\u001b[0mcross_validation_score\u001b[0m\u001b[1;33m(\u001b[0m\u001b[0mmodel\u001b[0m\u001b[1;33m,\u001b[0m\u001b[0mX_train\u001b[0m\u001b[1;33m,\u001b[0m\u001b[0mY\u001b[0m\u001b[1;33m-\u001b[0m\u001b[0mtrain\u001b[0m\u001b[1;33m,\u001b[0m\u001b[0mcv\u001b[0m \u001b[1;33m=\u001b[0m \u001b[0mkfold\u001b[0m\u001b[1;33m,\u001b[0m\u001b[0mscoring\u001b[0m\u001b[1;33m=\u001b[0m\u001b[1;34m'accuracy'\u001b[0m\u001b[1;33m)\u001b[0m\u001b[1;33m\u001b[0m\u001b[1;33m\u001b[0m\u001b[0m\n",
      "\u001b[1;31mNameError\u001b[0m: name 'models' is not defined"
     ]
    }
   ],
   "source": [
    "# evaluate each model in turn\n",
    "results = []\n",
    "names =[]\n",
    "for name,model in models:\n",
    "    kfold= KFold(n_splits=10)\n",
    "    cv_results=cross_validation_score(model,X_train,Y-train,cv = kfold,scoring='accuracy')\n",
    "    results.append(cv_results)\n",
    "    names.append(name)\n",
    "    msg=\"%s:%f (%f)\" % (name,cv_results.mean(),cv_results.std())\n",
    "    print(msg)\n",
    "    "
   ]
  },
  {
   "cell_type": "code",
   "execution_count": 35,
   "id": "d4f8ed95",
   "metadata": {},
   "outputs": [
    {
     "data": {
      "text/plain": [
       "[]"
      ]
     },
     "execution_count": 35,
     "metadata": {},
     "output_type": "execute_result"
    }
   ],
   "source": [
    "results"
   ]
  },
  {
   "cell_type": "code",
   "execution_count": 36,
   "id": "7f830882",
   "metadata": {},
   "outputs": [
    {
     "ename": "AttributeError",
     "evalue": "module 'matplotlib.pyplot' has no attribute 'fig'",
     "output_type": "error",
     "traceback": [
      "\u001b[1;31m---------------------------------------------------------------------------\u001b[0m",
      "\u001b[1;31mAttributeError\u001b[0m                            Traceback (most recent call last)",
      "\u001b[1;32m~\\AppData\\Local\\Temp\\ipykernel_10724\\3170001894.py\u001b[0m in \u001b[0;36m<module>\u001b[1;34m\u001b[0m\n\u001b[1;32m----> 1\u001b[1;33m \u001b[0mfigure\u001b[0m \u001b[1;33m=\u001b[0m \u001b[0mplt\u001b[0m\u001b[1;33m.\u001b[0m\u001b[0mfig\u001b[0m\u001b[1;33m(\u001b[0m\u001b[1;33m)\u001b[0m\u001b[1;33m\u001b[0m\u001b[1;33m\u001b[0m\u001b[0m\n\u001b[0m\u001b[0;32m      2\u001b[0m \u001b[0mfigure\u001b[0m\u001b[1;33m.\u001b[0m\u001b[0msubtilte\u001b[0m\u001b[1;33m(\u001b[0m\u001b[1;34m'Algorithm comparison'\u001b[0m\u001b[1;33m)\u001b[0m\u001b[1;33m\u001b[0m\u001b[1;33m\u001b[0m\u001b[0m\n\u001b[0;32m      3\u001b[0m \u001b[0max\u001b[0m \u001b[1;33m=\u001b[0m \u001b[0mfig\u001b[0m\u001b[1;33m.\u001b[0m\u001b[0madd_subplot\u001b[0m\u001b[1;33m(\u001b[0m\u001b[1;33m)\u001b[0m\u001b[1;33m\u001b[0m\u001b[1;33m\u001b[0m\u001b[0m\n\u001b[0;32m      4\u001b[0m \u001b[0mplt\u001b[0m\u001b[1;33m.\u001b[0m\u001b[0mboxplot\u001b[0m\u001b[1;33m(\u001b[0m\u001b[0mresults\u001b[0m\u001b[1;33m)\u001b[0m\u001b[1;33m\u001b[0m\u001b[1;33m\u001b[0m\u001b[0m\n\u001b[0;32m      5\u001b[0m \u001b[0mste\u001b[0m\u001b[1;33m.\u001b[0m\u001b[0mxsticklabel\u001b[0m\u001b[1;33m(\u001b[0m\u001b[0mnames\u001b[0m\u001b[1;33m)\u001b[0m\u001b[1;33m\u001b[0m\u001b[1;33m\u001b[0m\u001b[0m\n",
      "\u001b[1;31mAttributeError\u001b[0m: module 'matplotlib.pyplot' has no attribute 'fig'"
     ]
    }
   ],
   "source": [
    "figure = plt.fig()\n",
    "figure.subtilte('Algorithm comparison')\n",
    "ax = fig.add_subplot()\n",
    "plt.boxplot(results)\n",
    "ste.xsticklabel(names)\n",
    "plt.show()\n",
    "\n"
   ]
  },
  {
   "cell_type": "markdown",
   "id": "32172895",
   "metadata": {},
   "source": [
    "# Algo Tuning\n",
    "\n",
    "1.best n_estimator = 250\n",
    "2.best max_feature = 5\n",
    "\n",
    "Tune Random Forest\n",
    "3.n_estimators = np.array([50,100,150,200,250])\n",
    "4.max_features = np.array([1,2,3,4,5])\n",
    "5.param_grid = dic(n_estimators=n_estimators,max_features=max_features)\n",
    "6.model= RandomForestClassifier\n",
    "7.kfold=Kfolds(n_splits=num_folds,random_state=seed)\n",
    "8.grid=GridSearchCV(estimator=model,param_grid=param_grid,scoring=scoring,cv=kfold)\n",
    "9.grid_result=grid.fit(X_train,Y_train)\n",
    "10.print(\"Best %f using %s\" % (grid_result.best_score_,grid_result.best_params_))\n",
    "11.means = grid_results.cv_results_['mean_test_score']\n",
    "12.std = grid_results.cv_results['std_test_score']\n",
    "13. params= grid_cv_results.cv_results['params_test_score']\n",
    "14.for mean,stdev,param in zip(means,std,params):\n",
    "\n",
    "print(\"%f (%f) with: %r\" %(mean,std,params))"
   ]
  },
  {
   "cell_type": "markdown",
   "id": "65f9cc7e",
   "metadata": {},
   "source": [
    "# Final Model"
   ]
  },
  {
   "cell_type": "code",
   "execution_count": 37,
   "id": "c30f9886",
   "metadata": {},
   "outputs": [
    {
     "ename": "SyntaxError",
     "evalue": "invalid syntax (648069656.py, line 4)",
     "output_type": "error",
     "traceback": [
      "\u001b[1;36m  File \u001b[1;32m\"C:\\Users\\Avita\\AppData\\Local\\Temp\\ipykernel_10724\\648069656.py\"\u001b[1;36m, line \u001b[1;32m4\u001b[0m\n\u001b[1;33m    print=(Accuracy = \"%s%%\"% (100*accuracy_score(Y_validation,predictions)))\u001b[0m\n\u001b[1;37m                    ^\u001b[0m\n\u001b[1;31mSyntaxError\u001b[0m\u001b[1;31m:\u001b[0m invalid syntax\n"
     ]
    }
   ],
   "source": [
    "random_forest = RandomForest(n_estimators=100)\n",
    "random_forst.fit(X_train,Y_train)\n",
    "predictions = random_forest.predict(X_validation)\n",
    "print=(Accuracy = \"%s%%\"% (100*accuracy_score(Y_validation,predictions)))\n",
    "print(confusion_matrix(Y_validation,predictions))\n",
    "print(classification_report(Y_validation,predictions))"
   ]
  },
  {
   "cell_type": "code",
   "execution_count": null,
   "id": "23b19d8b",
   "metadata": {},
   "outputs": [],
   "source": []
  }
 ],
 "metadata": {
  "kernelspec": {
   "display_name": "Python 3 (ipykernel)",
   "language": "python",
   "name": "python3"
  },
  "language_info": {
   "codemirror_mode": {
    "name": "ipython",
    "version": 3
   },
   "file_extension": ".py",
   "mimetype": "text/x-python",
   "name": "python",
   "nbconvert_exporter": "python",
   "pygments_lexer": "ipython3",
   "version": "3.9.13"
  }
 },
 "nbformat": 4,
 "nbformat_minor": 5
}
